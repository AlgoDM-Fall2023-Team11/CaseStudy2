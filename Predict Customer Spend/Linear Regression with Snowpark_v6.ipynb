{
 "cells": [
  {
   "cell_type": "markdown",
   "id": "9f57e11c",
   "metadata": {},
   "source": [
    "# Linear Regression\n",
    "\n",
    "\n",
    "An ecommerce retailer is looking to use machine learning to understand its customer's online engagement with its digital outlets i.e website and app. It is trying to decide whether to focus its efforts on the mobile app experience or website. We will use Linear Regression model to see which user acitivity has the biggest impact on their likelyhood of spending more money.\n",
    "\n",
    "#### Variables of interest:\n",
    "Avg. Session Length: Average session of in-store style advice sessions.<br>\n",
    "Time on App: Average time spent on App in minutes <br>\n",
    "Time on Website: Average time spent on Website in minutes <br>\n",
    "Length of Membership: How many years the customer has been a member <br>"
   ]
  },
  {
   "cell_type": "markdown",
   "id": "c9bb1a9b",
   "metadata": {},
   "source": [
    "### Importing necesaary packages (including Snowpark)\n",
    "If any of the packages do not exist in your Python environment you can install them using conda. Here is an example of installing seaborn visualization package\n",
    "\n",
    "*import sys <br>\n",
    "!conda install --yes --prefix {sys.prefix} seaborn*"
   ]
  },
  {
   "cell_type": "code",
   "execution_count": 1,
   "id": "01f62253",
   "metadata": {},
   "outputs": [],
   "source": [
    "# Snowpark\n",
    "import json\n",
    "\n",
    "# Plotting\n",
    "import matplotlib.pyplot as plt\n",
    "import numpy as np\n",
    "# Pandas & json\n",
    "import pandas as pd\n",
    "import seaborn as sns\n",
    "#from sklearn.ensemble import RandomForestRegressor\n",
    "from sklearn import metrics\n",
    "from sklearn.linear_model import LinearRegression\n",
    "# Models\n",
    "from sklearn.model_selection import train_test_split\n",
    "from snowflake.snowpark import functions as F\n",
    "from snowflake.snowpark.functions import pandas_udf\n",
    "from snowflake.snowpark.session import Session\n",
    "from snowflake.snowpark.types import *\n",
    "from snowflake.snowpark.version import VERSION\n",
    "\n",
    "%matplotlib inline"
   ]
  },
  {
   "cell_type": "markdown",
   "id": "38042ae0",
   "metadata": {},
   "source": [
    "### Set context"
   ]
  },
  {
   "cell_type": "code",
   "execution_count": 3,
   "id": "5e64c81a",
   "metadata": {},
   "outputs": [
    {
     "ename": "DatabaseError",
     "evalue": "250001 (08001): Failed to connect to DB: bzb92965.us-east-1.snowflakecomputing.com:443. Your free trial has ended and all of your virtual warehouses have been suspended. Add billing information in the Snowflake web UI to continue using the full set of Snowflake features.",
     "output_type": "error",
     "traceback": [
      "\u001b[1;31m---------------------------------------------------------------------------\u001b[0m",
      "\u001b[1;31mDatabaseError\u001b[0m                             Traceback (most recent call last)",
      "\u001b[1;32mc:\\Users\\Usashi Roy\\Desktop\\ADM\\CaseStudy2\\CaseStudy2\\Predict Customer Spend\\Linear Regression with Snowpark_v6.ipynb Cell 5\u001b[0m line \u001b[0;36m4\n\u001b[0;32m      <a href='vscode-notebook-cell:/c%3A/Users/Usashi%20Roy/Desktop/ADM/CaseStudy2/CaseStudy2/Predict%20Customer%20Spend/Linear%20Regression%20with%20Snowpark_v6.ipynb#W4sZmlsZQ%3D%3D?line=1'>2</a>\u001b[0m \u001b[39mwith\u001b[39;00m \u001b[39mopen\u001b[39m(\u001b[39m'\u001b[39m\u001b[39mcreds.json\u001b[39m\u001b[39m'\u001b[39m) \u001b[39mas\u001b[39;00m f:\n\u001b[0;32m      <a href='vscode-notebook-cell:/c%3A/Users/Usashi%20Roy/Desktop/ADM/CaseStudy2/CaseStudy2/Predict%20Customer%20Spend/Linear%20Regression%20with%20Snowpark_v6.ipynb#W4sZmlsZQ%3D%3D?line=2'>3</a>\u001b[0m     connection_parameters \u001b[39m=\u001b[39m json\u001b[39m.\u001b[39mload(f)    \n\u001b[1;32m----> <a href='vscode-notebook-cell:/c%3A/Users/Usashi%20Roy/Desktop/ADM/CaseStudy2/CaseStudy2/Predict%20Customer%20Spend/Linear%20Regression%20with%20Snowpark_v6.ipynb#W4sZmlsZQ%3D%3D?line=3'>4</a>\u001b[0m session \u001b[39m=\u001b[39m Session\u001b[39m.\u001b[39;49mbuilder\u001b[39m.\u001b[39;49mconfigs(connection_parameters)\u001b[39m.\u001b[39;49mcreate()\n",
      "File \u001b[1;32mc:\\Users\\Usashi Roy\\AppData\\Local\\Programs\\Python\\Python311\\Lib\\site-packages\\snowflake\\snowpark\\session.py:315\u001b[0m, in \u001b[0;36mSession.SessionBuilder.create\u001b[1;34m(self)\u001b[0m\n\u001b[0;32m    313\u001b[0m \u001b[39mdef\u001b[39;00m \u001b[39mcreate\u001b[39m(\u001b[39mself\u001b[39m) \u001b[39m-\u001b[39m\u001b[39m>\u001b[39m \u001b[39m\"\u001b[39m\u001b[39mSession\u001b[39m\u001b[39m\"\u001b[39m:\n\u001b[0;32m    314\u001b[0m \u001b[39m    \u001b[39m\u001b[39m\"\"\"Creates a new Session.\"\"\"\u001b[39;00m\n\u001b[1;32m--> 315\u001b[0m     session \u001b[39m=\u001b[39m \u001b[39mself\u001b[39;49m\u001b[39m.\u001b[39;49m_create_internal(\u001b[39mself\u001b[39;49m\u001b[39m.\u001b[39;49m_options\u001b[39m.\u001b[39;49mget(\u001b[39m\"\u001b[39;49m\u001b[39mconnection\u001b[39;49m\u001b[39m\"\u001b[39;49m))\n\u001b[0;32m    316\u001b[0m     \u001b[39mreturn\u001b[39;00m session\n",
      "File \u001b[1;32mc:\\Users\\Usashi Roy\\AppData\\Local\\Programs\\Python\\Python311\\Lib\\site-packages\\snowflake\\snowpark\\session.py:344\u001b[0m, in \u001b[0;36mSession.SessionBuilder._create_internal\u001b[1;34m(self, conn)\u001b[0m\n\u001b[0;32m    341\u001b[0m \u001b[39mif\u001b[39;00m \u001b[39m\"\u001b[39m\u001b[39mparamstyle\u001b[39m\u001b[39m\"\u001b[39m \u001b[39mnot\u001b[39;00m \u001b[39min\u001b[39;00m \u001b[39mself\u001b[39m\u001b[39m.\u001b[39m_options:\n\u001b[0;32m    342\u001b[0m     \u001b[39mself\u001b[39m\u001b[39m.\u001b[39m_options[\u001b[39m\"\u001b[39m\u001b[39mparamstyle\u001b[39m\u001b[39m\"\u001b[39m] \u001b[39m=\u001b[39m \u001b[39m\"\u001b[39m\u001b[39mqmark\u001b[39m\u001b[39m\"\u001b[39m\n\u001b[0;32m    343\u001b[0m new_session \u001b[39m=\u001b[39m Session(\n\u001b[1;32m--> 344\u001b[0m     ServerConnection({}, conn) \u001b[39mif\u001b[39;00m conn \u001b[39melse\u001b[39;00m ServerConnection(\u001b[39mself\u001b[39;49m\u001b[39m.\u001b[39;49m_options),\n\u001b[0;32m    345\u001b[0m     \u001b[39mself\u001b[39m\u001b[39m.\u001b[39m_options,\n\u001b[0;32m    346\u001b[0m )\n\u001b[0;32m    348\u001b[0m \u001b[39mif\u001b[39;00m \u001b[39m\"\u001b[39m\u001b[39mpassword\u001b[39m\u001b[39m\"\u001b[39m \u001b[39min\u001b[39;00m \u001b[39mself\u001b[39m\u001b[39m.\u001b[39m_options:\n\u001b[0;32m    349\u001b[0m     \u001b[39mself\u001b[39m\u001b[39m.\u001b[39m_options[\u001b[39m\"\u001b[39m\u001b[39mpassword\u001b[39m\u001b[39m\"\u001b[39m] \u001b[39m=\u001b[39m \u001b[39mNone\u001b[39;00m\n",
      "File \u001b[1;32mc:\\Users\\Usashi Roy\\AppData\\Local\\Programs\\Python\\Python311\\Lib\\site-packages\\snowflake\\snowpark\\_internal\\server_connection.py:136\u001b[0m, in \u001b[0;36mServerConnection.__init__\u001b[1;34m(self, options, conn)\u001b[0m\n\u001b[0;32m    134\u001b[0m \u001b[39mself\u001b[39m\u001b[39m.\u001b[39m_lower_case_parameters \u001b[39m=\u001b[39m {k\u001b[39m.\u001b[39mlower(): v \u001b[39mfor\u001b[39;00m k, v \u001b[39min\u001b[39;00m options\u001b[39m.\u001b[39mitems()}\n\u001b[0;32m    135\u001b[0m \u001b[39mself\u001b[39m\u001b[39m.\u001b[39m_add_application_name()\n\u001b[1;32m--> 136\u001b[0m \u001b[39mself\u001b[39m\u001b[39m.\u001b[39m_conn \u001b[39m=\u001b[39m conn \u001b[39mif\u001b[39;00m conn \u001b[39melse\u001b[39;00m connect(\u001b[39m*\u001b[39;49m\u001b[39m*\u001b[39;49m\u001b[39mself\u001b[39;49m\u001b[39m.\u001b[39;49m_lower_case_parameters)\n\u001b[0;32m    137\u001b[0m \u001b[39mif\u001b[39;00m \u001b[39m\"\u001b[39m\u001b[39mpassword\u001b[39m\u001b[39m\"\u001b[39m \u001b[39min\u001b[39;00m \u001b[39mself\u001b[39m\u001b[39m.\u001b[39m_lower_case_parameters:\n\u001b[0;32m    138\u001b[0m     \u001b[39mself\u001b[39m\u001b[39m.\u001b[39m_lower_case_parameters[\u001b[39m\"\u001b[39m\u001b[39mpassword\u001b[39m\u001b[39m\"\u001b[39m] \u001b[39m=\u001b[39m \u001b[39mNone\u001b[39;00m\n",
      "File \u001b[1;32mc:\\Users\\Usashi Roy\\AppData\\Local\\Programs\\Python\\Python311\\Lib\\site-packages\\snowflake\\connector\\__init__.py:54\u001b[0m, in \u001b[0;36mConnect\u001b[1;34m(**kwargs)\u001b[0m\n\u001b[0;32m     52\u001b[0m \u001b[39m@wraps\u001b[39m(SnowflakeConnection\u001b[39m.\u001b[39m\u001b[39m__init__\u001b[39m)\n\u001b[0;32m     53\u001b[0m \u001b[39mdef\u001b[39;00m \u001b[39mConnect\u001b[39m(\u001b[39m*\u001b[39m\u001b[39m*\u001b[39mkwargs) \u001b[39m-\u001b[39m\u001b[39m>\u001b[39m SnowflakeConnection:\n\u001b[1;32m---> 54\u001b[0m     \u001b[39mreturn\u001b[39;00m SnowflakeConnection(\u001b[39m*\u001b[39;49m\u001b[39m*\u001b[39;49mkwargs)\n",
      "File \u001b[1;32mc:\\Users\\Usashi Roy\\AppData\\Local\\Programs\\Python\\Python311\\Lib\\site-packages\\snowflake\\connector\\connection.py:372\u001b[0m, in \u001b[0;36mSnowflakeConnection.__init__\u001b[1;34m(self, connection_name, connections_file_path, **kwargs)\u001b[0m\n\u001b[0;32m    370\u001b[0m     kwargs \u001b[39m=\u001b[39m _get_default_connection_params()\n\u001b[0;32m    371\u001b[0m \u001b[39mself\u001b[39m\u001b[39m.\u001b[39m__set_error_attributes()\n\u001b[1;32m--> 372\u001b[0m \u001b[39mself\u001b[39;49m\u001b[39m.\u001b[39;49mconnect(\u001b[39m*\u001b[39;49m\u001b[39m*\u001b[39;49mkwargs)\n\u001b[0;32m    373\u001b[0m \u001b[39mself\u001b[39m\u001b[39m.\u001b[39m_telemetry \u001b[39m=\u001b[39m TelemetryClient(\u001b[39mself\u001b[39m\u001b[39m.\u001b[39m_rest)\n\u001b[0;32m    375\u001b[0m \u001b[39m# get the imported modules from sys.modules\u001b[39;00m\n",
      "File \u001b[1;32mc:\\Users\\Usashi Roy\\AppData\\Local\\Programs\\Python\\Python311\\Lib\\site-packages\\snowflake\\connector\\connection.py:644\u001b[0m, in \u001b[0;36mSnowflakeConnection.connect\u001b[1;34m(self, **kwargs)\u001b[0m\n\u001b[0;32m    642\u001b[0m         connection_diag\u001b[39m.\u001b[39mgenerate_report()\n\u001b[0;32m    643\u001b[0m \u001b[39melse\u001b[39;00m:\n\u001b[1;32m--> 644\u001b[0m     \u001b[39mself\u001b[39;49m\u001b[39m.\u001b[39;49m__open_connection()\n",
      "File \u001b[1;32mc:\\Users\\Usashi Roy\\AppData\\Local\\Programs\\Python\\Python311\\Lib\\site-packages\\snowflake\\connector\\connection.py:917\u001b[0m, in \u001b[0;36mSnowflakeConnection.__open_connection\u001b[1;34m(self)\u001b[0m\n\u001b[0;32m    913\u001b[0m \u001b[39melse\u001b[39;00m:\n\u001b[0;32m    914\u001b[0m     \u001b[39m# okta URL, e.g., https://<account>.okta.com/\u001b[39;00m\n\u001b[0;32m    915\u001b[0m     \u001b[39mself\u001b[39m\u001b[39m.\u001b[39mauth_class \u001b[39m=\u001b[39m AuthByOkta(application\u001b[39m=\u001b[39m\u001b[39mself\u001b[39m\u001b[39m.\u001b[39mapplication)\n\u001b[1;32m--> 917\u001b[0m \u001b[39mself\u001b[39;49m\u001b[39m.\u001b[39;49mauthenticate_with_retry(\u001b[39mself\u001b[39;49m\u001b[39m.\u001b[39;49mauth_class)\n\u001b[0;32m    919\u001b[0m \u001b[39mself\u001b[39m\u001b[39m.\u001b[39m_password \u001b[39m=\u001b[39m \u001b[39mNone\u001b[39;00m  \u001b[39m# ensure password won't persist\u001b[39;00m\n\u001b[0;32m    920\u001b[0m \u001b[39mself\u001b[39m\u001b[39m.\u001b[39mauth_class\u001b[39m.\u001b[39mreset_secrets()\n",
      "File \u001b[1;32mc:\\Users\\Usashi Roy\\AppData\\Local\\Programs\\Python\\Python311\\Lib\\site-packages\\snowflake\\connector\\connection.py:1186\u001b[0m, in \u001b[0;36mSnowflakeConnection.authenticate_with_retry\u001b[1;34m(self, auth_instance)\u001b[0m\n\u001b[0;32m   1183\u001b[0m \u001b[39mdef\u001b[39;00m \u001b[39mauthenticate_with_retry\u001b[39m(\u001b[39mself\u001b[39m, auth_instance) \u001b[39m-\u001b[39m\u001b[39m>\u001b[39m \u001b[39mNone\u001b[39;00m:\n\u001b[0;32m   1184\u001b[0m     \u001b[39m# make some changes if needed before real __authenticate\u001b[39;00m\n\u001b[0;32m   1185\u001b[0m     \u001b[39mtry\u001b[39;00m:\n\u001b[1;32m-> 1186\u001b[0m         \u001b[39mself\u001b[39;49m\u001b[39m.\u001b[39;49m_authenticate(auth_instance)\n\u001b[0;32m   1187\u001b[0m     \u001b[39mexcept\u001b[39;00m ReauthenticationRequest \u001b[39mas\u001b[39;00m ex:\n\u001b[0;32m   1188\u001b[0m         \u001b[39m# cached id_token expiration error, we have cleaned id_token and try to authenticate again\u001b[39;00m\n\u001b[0;32m   1189\u001b[0m         logger\u001b[39m.\u001b[39mdebug(\u001b[39m\"\u001b[39m\u001b[39mID token expired. Reauthenticating...: \u001b[39m\u001b[39m%s\u001b[39;00m\u001b[39m\"\u001b[39m, ex)\n",
      "File \u001b[1;32mc:\\Users\\Usashi Roy\\AppData\\Local\\Programs\\Python\\Python311\\Lib\\site-packages\\snowflake\\connector\\connection.py:1212\u001b[0m, in \u001b[0;36mSnowflakeConnection._authenticate\u001b[1;34m(self, auth_instance)\u001b[0m\n\u001b[0;32m   1210\u001b[0m auth \u001b[39m=\u001b[39m Auth(\u001b[39mself\u001b[39m\u001b[39m.\u001b[39mrest)\n\u001b[0;32m   1211\u001b[0m \u001b[39mtry\u001b[39;00m:\n\u001b[1;32m-> 1212\u001b[0m     auth\u001b[39m.\u001b[39;49mauthenticate(\n\u001b[0;32m   1213\u001b[0m         auth_instance\u001b[39m=\u001b[39;49mauth_instance,\n\u001b[0;32m   1214\u001b[0m         account\u001b[39m=\u001b[39;49m\u001b[39mself\u001b[39;49m\u001b[39m.\u001b[39;49maccount,\n\u001b[0;32m   1215\u001b[0m         user\u001b[39m=\u001b[39;49m\u001b[39mself\u001b[39;49m\u001b[39m.\u001b[39;49muser,\n\u001b[0;32m   1216\u001b[0m         database\u001b[39m=\u001b[39;49m\u001b[39mself\u001b[39;49m\u001b[39m.\u001b[39;49mdatabase,\n\u001b[0;32m   1217\u001b[0m         schema\u001b[39m=\u001b[39;49m\u001b[39mself\u001b[39;49m\u001b[39m.\u001b[39;49mschema,\n\u001b[0;32m   1218\u001b[0m         warehouse\u001b[39m=\u001b[39;49m\u001b[39mself\u001b[39;49m\u001b[39m.\u001b[39;49mwarehouse,\n\u001b[0;32m   1219\u001b[0m         role\u001b[39m=\u001b[39;49m\u001b[39mself\u001b[39;49m\u001b[39m.\u001b[39;49mrole,\n\u001b[0;32m   1220\u001b[0m         passcode\u001b[39m=\u001b[39;49m\u001b[39mself\u001b[39;49m\u001b[39m.\u001b[39;49m_passcode,\n\u001b[0;32m   1221\u001b[0m         passcode_in_password\u001b[39m=\u001b[39;49m\u001b[39mself\u001b[39;49m\u001b[39m.\u001b[39;49m_passcode_in_password,\n\u001b[0;32m   1222\u001b[0m         mfa_callback\u001b[39m=\u001b[39;49m\u001b[39mself\u001b[39;49m\u001b[39m.\u001b[39;49m_mfa_callback,\n\u001b[0;32m   1223\u001b[0m         password_callback\u001b[39m=\u001b[39;49m\u001b[39mself\u001b[39;49m\u001b[39m.\u001b[39;49m_password_callback,\n\u001b[0;32m   1224\u001b[0m         session_parameters\u001b[39m=\u001b[39;49m\u001b[39mself\u001b[39;49m\u001b[39m.\u001b[39;49m_session_parameters,\n\u001b[0;32m   1225\u001b[0m     )\n\u001b[0;32m   1226\u001b[0m \u001b[39mexcept\u001b[39;00m OperationalError \u001b[39mas\u001b[39;00m e:\n\u001b[0;32m   1227\u001b[0m     logger\u001b[39m.\u001b[39mdebug(\n\u001b[0;32m   1228\u001b[0m         \u001b[39m\"\u001b[39m\u001b[39mOperational Error raised at authentication\u001b[39m\u001b[39m\"\u001b[39m\n\u001b[0;32m   1229\u001b[0m         \u001b[39mf\u001b[39m\u001b[39m\"\u001b[39m\u001b[39mfor authenticator: \u001b[39m\u001b[39m{\u001b[39;00m\u001b[39mtype\u001b[39m(auth_instance)\u001b[39m.\u001b[39m\u001b[39m__name__\u001b[39m\u001b[39m}\u001b[39;00m\u001b[39m\"\u001b[39m\n\u001b[0;32m   1230\u001b[0m     )\n",
      "File \u001b[1;32mc:\\Users\\Usashi Roy\\AppData\\Local\\Programs\\Python\\Python311\\Lib\\site-packages\\snowflake\\connector\\auth\\_auth.py:396\u001b[0m, in \u001b[0;36mAuth.authenticate\u001b[1;34m(self, auth_instance, account, user, database, schema, warehouse, role, passcode, passcode_in_password, mfa_callback, password_callback, session_parameters, timeout)\u001b[0m\n\u001b[0;32m    394\u001b[0m     \u001b[39mif\u001b[39;00m \u001b[39misinstance\u001b[39m(auth_instance, AuthByUsrPwdMfa):\n\u001b[0;32m    395\u001b[0m         delete_temporary_credential(\u001b[39mself\u001b[39m\u001b[39m.\u001b[39m_rest\u001b[39m.\u001b[39m_host, user, MFA_TOKEN)\n\u001b[1;32m--> 396\u001b[0m     Error\u001b[39m.\u001b[39;49merrorhandler_wrapper(\n\u001b[0;32m    397\u001b[0m         \u001b[39mself\u001b[39;49m\u001b[39m.\u001b[39;49m_rest\u001b[39m.\u001b[39;49m_connection,\n\u001b[0;32m    398\u001b[0m         \u001b[39mNone\u001b[39;49;00m,\n\u001b[0;32m    399\u001b[0m         DatabaseError,\n\u001b[0;32m    400\u001b[0m         {\n\u001b[0;32m    401\u001b[0m             \u001b[39m\"\u001b[39;49m\u001b[39mmsg\u001b[39;49m\u001b[39m\"\u001b[39;49m: (\n\u001b[0;32m    402\u001b[0m                 \u001b[39m\"\u001b[39;49m\u001b[39mFailed to connect to DB: \u001b[39;49m\u001b[39m{host}\u001b[39;49;00m\u001b[39m:\u001b[39;49m\u001b[39m{port}\u001b[39;49;00m\u001b[39m. \u001b[39;49m\u001b[39m\"\u001b[39;49m \u001b[39m\"\u001b[39;49m\u001b[39m{message}\u001b[39;49;00m\u001b[39m\"\u001b[39;49m\n\u001b[0;32m    403\u001b[0m             )\u001b[39m.\u001b[39;49mformat(\n\u001b[0;32m    404\u001b[0m                 host\u001b[39m=\u001b[39;49m\u001b[39mself\u001b[39;49m\u001b[39m.\u001b[39;49m_rest\u001b[39m.\u001b[39;49m_host,\n\u001b[0;32m    405\u001b[0m                 port\u001b[39m=\u001b[39;49m\u001b[39mself\u001b[39;49m\u001b[39m.\u001b[39;49m_rest\u001b[39m.\u001b[39;49m_port,\n\u001b[0;32m    406\u001b[0m                 message\u001b[39m=\u001b[39;49mret[\u001b[39m\"\u001b[39;49m\u001b[39mmessage\u001b[39;49m\u001b[39m\"\u001b[39;49m],\n\u001b[0;32m    407\u001b[0m             ),\n\u001b[0;32m    408\u001b[0m             \u001b[39m\"\u001b[39;49m\u001b[39merrno\u001b[39;49m\u001b[39m\"\u001b[39;49m: ER_FAILED_TO_CONNECT_TO_DB,\n\u001b[0;32m    409\u001b[0m             \u001b[39m\"\u001b[39;49m\u001b[39msqlstate\u001b[39;49m\u001b[39m\"\u001b[39;49m: SQLSTATE_CONNECTION_WAS_NOT_ESTABLISHED,\n\u001b[0;32m    410\u001b[0m         },\n\u001b[0;32m    411\u001b[0m     )\n\u001b[0;32m    412\u001b[0m \u001b[39melse\u001b[39;00m:\n\u001b[0;32m    413\u001b[0m     logger\u001b[39m.\u001b[39mdebug(\n\u001b[0;32m    414\u001b[0m         \u001b[39m\"\u001b[39m\u001b[39mtoken = \u001b[39m\u001b[39m%s\u001b[39;00m\u001b[39m\"\u001b[39m, \u001b[39m\"\u001b[39m\u001b[39m******\u001b[39m\u001b[39m\"\u001b[39m \u001b[39mif\u001b[39;00m ret[\u001b[39m\"\u001b[39m\u001b[39mdata\u001b[39m\u001b[39m\"\u001b[39m][\u001b[39m\"\u001b[39m\u001b[39mtoken\u001b[39m\u001b[39m\"\u001b[39m] \u001b[39mis\u001b[39;00m \u001b[39mnot\u001b[39;00m \u001b[39mNone\u001b[39;00m \u001b[39melse\u001b[39;00m \u001b[39m\"\u001b[39m\u001b[39mNULL\u001b[39m\u001b[39m\"\u001b[39m\n\u001b[0;32m    415\u001b[0m     )\n",
      "File \u001b[1;32mc:\\Users\\Usashi Roy\\AppData\\Local\\Programs\\Python\\Python311\\Lib\\site-packages\\snowflake\\connector\\errors.py:290\u001b[0m, in \u001b[0;36mError.errorhandler_wrapper\u001b[1;34m(connection, cursor, error_class, error_value)\u001b[0m\n\u001b[0;32m    267\u001b[0m \u001b[39m@staticmethod\u001b[39m\n\u001b[0;32m    268\u001b[0m \u001b[39mdef\u001b[39;00m \u001b[39merrorhandler_wrapper\u001b[39m(\n\u001b[0;32m    269\u001b[0m     connection: SnowflakeConnection \u001b[39m|\u001b[39m \u001b[39mNone\u001b[39;00m,\n\u001b[1;32m   (...)\u001b[0m\n\u001b[0;32m    272\u001b[0m     error_value: \u001b[39mdict\u001b[39m[\u001b[39mstr\u001b[39m, Any],\n\u001b[0;32m    273\u001b[0m ) \u001b[39m-\u001b[39m\u001b[39m>\u001b[39m \u001b[39mNone\u001b[39;00m:\n\u001b[0;32m    274\u001b[0m \u001b[39m    \u001b[39m\u001b[39m\"\"\"Error handler wrapper that calls the errorhandler method.\u001b[39;00m\n\u001b[0;32m    275\u001b[0m \n\u001b[0;32m    276\u001b[0m \u001b[39m    Args:\u001b[39;00m\n\u001b[1;32m   (...)\u001b[0m\n\u001b[0;32m    287\u001b[0m \u001b[39m        exception to the first handler in that order.\u001b[39;00m\n\u001b[0;32m    288\u001b[0m \u001b[39m    \"\"\"\u001b[39;00m\n\u001b[1;32m--> 290\u001b[0m     handed_over \u001b[39m=\u001b[39m Error\u001b[39m.\u001b[39;49mhand_to_other_handler(\n\u001b[0;32m    291\u001b[0m         connection,\n\u001b[0;32m    292\u001b[0m         cursor,\n\u001b[0;32m    293\u001b[0m         error_class,\n\u001b[0;32m    294\u001b[0m         error_value,\n\u001b[0;32m    295\u001b[0m     )\n\u001b[0;32m    296\u001b[0m     \u001b[39mif\u001b[39;00m \u001b[39mnot\u001b[39;00m handed_over:\n\u001b[0;32m    297\u001b[0m         \u001b[39mraise\u001b[39;00m Error\u001b[39m.\u001b[39merrorhandler_make_exception(\n\u001b[0;32m    298\u001b[0m             error_class,\n\u001b[0;32m    299\u001b[0m             error_value,\n\u001b[0;32m    300\u001b[0m         )\n",
      "File \u001b[1;32mc:\\Users\\Usashi Roy\\AppData\\Local\\Programs\\Python\\Python311\\Lib\\site-packages\\snowflake\\connector\\errors.py:348\u001b[0m, in \u001b[0;36mError.hand_to_other_handler\u001b[1;34m(connection, cursor, error_class, error_value)\u001b[0m\n\u001b[0;32m    346\u001b[0m     \u001b[39mreturn\u001b[39;00m \u001b[39mTrue\u001b[39;00m\n\u001b[0;32m    347\u001b[0m \u001b[39melif\u001b[39;00m connection \u001b[39mis\u001b[39;00m \u001b[39mnot\u001b[39;00m \u001b[39mNone\u001b[39;00m:\n\u001b[1;32m--> 348\u001b[0m     connection\u001b[39m.\u001b[39;49merrorhandler(connection, cursor, error_class, error_value)\n\u001b[0;32m    349\u001b[0m     \u001b[39mreturn\u001b[39;00m \u001b[39mTrue\u001b[39;00m\n\u001b[0;32m    350\u001b[0m \u001b[39mreturn\u001b[39;00m \u001b[39mFalse\u001b[39;00m\n",
      "File \u001b[1;32mc:\\Users\\Usashi Roy\\AppData\\Local\\Programs\\Python\\Python311\\Lib\\site-packages\\snowflake\\connector\\errors.py:221\u001b[0m, in \u001b[0;36mError.default_errorhandler\u001b[1;34m(connection, cursor, error_class, error_value)\u001b[0m\n\u001b[0;32m    219\u001b[0m errno \u001b[39m=\u001b[39m error_value\u001b[39m.\u001b[39mget(\u001b[39m\"\u001b[39m\u001b[39merrno\u001b[39m\u001b[39m\"\u001b[39m)\n\u001b[0;32m    220\u001b[0m done_format_msg \u001b[39m=\u001b[39m error_value\u001b[39m.\u001b[39mget(\u001b[39m\"\u001b[39m\u001b[39mdone_format_msg\u001b[39m\u001b[39m\"\u001b[39m)\n\u001b[1;32m--> 221\u001b[0m \u001b[39mraise\u001b[39;00m error_class(\n\u001b[0;32m    222\u001b[0m     msg\u001b[39m=\u001b[39merror_value\u001b[39m.\u001b[39mget(\u001b[39m\"\u001b[39m\u001b[39mmsg\u001b[39m\u001b[39m\"\u001b[39m),\n\u001b[0;32m    223\u001b[0m     errno\u001b[39m=\u001b[39m\u001b[39mNone\u001b[39;00m \u001b[39mif\u001b[39;00m errno \u001b[39mis\u001b[39;00m \u001b[39mNone\u001b[39;00m \u001b[39melse\u001b[39;00m \u001b[39mint\u001b[39m(errno),\n\u001b[0;32m    224\u001b[0m     sqlstate\u001b[39m=\u001b[39merror_value\u001b[39m.\u001b[39mget(\u001b[39m\"\u001b[39m\u001b[39msqlstate\u001b[39m\u001b[39m\"\u001b[39m),\n\u001b[0;32m    225\u001b[0m     sfqid\u001b[39m=\u001b[39merror_value\u001b[39m.\u001b[39mget(\u001b[39m\"\u001b[39m\u001b[39msfqid\u001b[39m\u001b[39m\"\u001b[39m),\n\u001b[0;32m    226\u001b[0m     query\u001b[39m=\u001b[39merror_value\u001b[39m.\u001b[39mget(\u001b[39m\"\u001b[39m\u001b[39mquery\u001b[39m\u001b[39m\"\u001b[39m),\n\u001b[0;32m    227\u001b[0m     done_format_msg\u001b[39m=\u001b[39m(\n\u001b[0;32m    228\u001b[0m         \u001b[39mNone\u001b[39;00m \u001b[39mif\u001b[39;00m done_format_msg \u001b[39mis\u001b[39;00m \u001b[39mNone\u001b[39;00m \u001b[39melse\u001b[39;00m \u001b[39mbool\u001b[39m(done_format_msg)\n\u001b[0;32m    229\u001b[0m     ),\n\u001b[0;32m    230\u001b[0m     connection\u001b[39m=\u001b[39mconnection,\n\u001b[0;32m    231\u001b[0m     cursor\u001b[39m=\u001b[39mcursor,\n\u001b[0;32m    232\u001b[0m )\n",
      "\u001b[1;31mDatabaseError\u001b[0m: 250001 (08001): Failed to connect to DB: bzb92965.us-east-1.snowflakecomputing.com:443. Your free trial has ended and all of your virtual warehouses have been suspended. Add billing information in the Snowflake web UI to continue using the full set of Snowflake features."
     ]
    }
   ],
   "source": [
    "# Read credentials\n",
    "with open('creds.json') as f:\n",
    "    connection_parameters = json.load(f)    \n",
    "session = Session.builder.configs(connection_parameters).create()"
   ]
  },
  {
   "cell_type": "code",
   "execution_count": null,
   "id": "5295c5c4",
   "metadata": {},
   "outputs": [
    {
     "ename": "",
     "evalue": "",
     "output_type": "error",
     "traceback": [
      "\u001b[1;31mRunning cells with 'base' requires the ipykernel package.\n",
      "\u001b[1;31mRun the following command to install 'ipykernel' into the Python environment. \n",
      "\u001b[1;31mCommand: 'conda install -n base ipykernel --update-deps --force-reinstall'"
     ]
    }
   ],
   "source": [
    "snowpark_version = VERSION\n",
    "\n",
    "print('Warehouse                   : {}'.format(session.get_current_warehouse()))\n",
    "print('Role                        : {}'.format(session.get_current_role()))\n",
    "print('Snowpark for Python version : {}.{}.{}'.format(snowpark_version[0],snowpark_version[1],snowpark_version[2]))"
   ]
  },
  {
   "cell_type": "markdown",
   "id": "abdc3c61",
   "metadata": {},
   "source": [
    "### Data Loading"
   ]
  },
  {
   "cell_type": "code",
   "execution_count": null,
   "id": "7beff24f",
   "metadata": {},
   "outputs": [
    {
     "ename": "",
     "evalue": "",
     "output_type": "error",
     "traceback": [
      "\u001b[1;31mRunning cells with 'base' requires the ipykernel package.\n",
      "\u001b[1;31mRun the following command to install 'ipykernel' into the Python environment. \n",
      "\u001b[1;31mCommand: 'conda install -n base ipykernel --update-deps --force-reinstall'"
     ]
    }
   ],
   "source": [
    "customers = pd.read_csv(\"EcommerceCustomers.csv\")\n",
    "customers.head()"
   ]
  },
  {
   "cell_type": "markdown",
   "id": "c44fdde4",
   "metadata": {},
   "source": [
    "Created a new database/schema 'predict_customer_spend/data' in COMPUTE_WH warehouse to store the 'EcommerceCustomers.csv' file "
   ]
  },
  {
   "cell_type": "code",
   "execution_count": null,
   "id": "ca04223d",
   "metadata": {},
   "outputs": [
    {
     "ename": "",
     "evalue": "",
     "output_type": "error",
     "traceback": [
      "\u001b[1;31mRunning cells with 'base' requires the ipykernel package.\n",
      "\u001b[1;31mRun the following command to install 'ipykernel' into the Python environment. \n",
      "\u001b[1;31mCommand: 'conda install -n base ipykernel --update-deps --force-reinstall'"
     ]
    }
   ],
   "source": [
    "session.sql('CREATE DATABASE IF NOT EXISTS predict_customer_spend').collect()\n",
    "session.sql('CREATE SCHEMA IF NOT EXISTS predict_customer_spend.data').collect()\n",
    "session.use_warehouse('COMPUTE_WH')\n",
    "session.use_database('predict_customer_spend')\n",
    "session.use_schema('data')"
   ]
  },
  {
   "cell_type": "code",
   "execution_count": null,
   "id": "61ad76a4",
   "metadata": {},
   "outputs": [
    {
     "ename": "",
     "evalue": "",
     "output_type": "error",
     "traceback": [
      "\u001b[1;31mRunning cells with 'base' requires the ipykernel package.\n",
      "\u001b[1;31mRun the following command to install 'ipykernel' into the Python environment. \n",
      "\u001b[1;31mCommand: 'conda install -n base ipykernel --update-deps --force-reinstall'"
     ]
    }
   ],
   "source": [
    "# Create a Snowpark DF from the pandas DF\n",
    "snowdf = session.createDataFrame(customers)"
   ]
  },
  {
   "cell_type": "code",
   "execution_count": null,
   "id": "ba630389",
   "metadata": {},
   "outputs": [
    {
     "ename": "",
     "evalue": "",
     "output_type": "error",
     "traceback": [
      "\u001b[1;31mRunning cells with 'base' requires the ipykernel package.\n",
      "\u001b[1;31mRun the following command to install 'ipykernel' into the Python environment. \n",
      "\u001b[1;31mCommand: 'conda install -n base ipykernel --update-deps --force-reinstall'"
     ]
    }
   ],
   "source": [
    "snowdf.show(2)"
   ]
  },
  {
   "cell_type": "code",
   "execution_count": null,
   "id": "3a149d64",
   "metadata": {},
   "outputs": [
    {
     "ename": "",
     "evalue": "",
     "output_type": "error",
     "traceback": [
      "\u001b[1;31mRunning cells with 'base' requires the ipykernel package.\n",
      "\u001b[1;31mRun the following command to install 'ipykernel' into the Python environment. \n",
      "\u001b[1;31mCommand: 'conda install -n base ipykernel --update-deps --force-reinstall'"
     ]
    }
   ],
   "source": [
    "# Loading customer data from Snowpark DF to a Snowflake internal table\n",
    "\n",
    "snowdf.write.mode(\"overwrite\").saveAsTable(\"customers_new\") \n",
    "\n",
    "session.table(\"CUSTOMERS_NEW\").limit(5).show(5)"
   ]
  },
  {
   "cell_type": "code",
   "execution_count": null,
   "id": "c3f7fea1",
   "metadata": {},
   "outputs": [
    {
     "ename": "",
     "evalue": "",
     "output_type": "error",
     "traceback": [
      "\u001b[1;31mRunning cells with 'base' requires the ipykernel package.\n",
      "\u001b[1;31mRun the following command to install 'ipykernel' into the Python environment. \n",
      "\u001b[1;31mCommand: 'conda install -n base ipykernel --update-deps --force-reinstall'"
     ]
    }
   ],
   "source": [
    "# Create a pandas data frame from the Snowflake table\n",
    "custdf = session.table('CUSTOMERS_NEW').toPandas() \n",
    "\n",
    "print(f\"'custdf' local dataframe created. Number of records: {len(custdf)} \")"
   ]
  },
  {
   "cell_type": "markdown",
   "id": "90dbcfa4",
   "metadata": {},
   "source": [
    "### Model Training & Testing"
   ]
  },
  {
   "cell_type": "code",
   "execution_count": null,
   "id": "ef0ae769",
   "metadata": {},
   "outputs": [
    {
     "ename": "",
     "evalue": "",
     "output_type": "error",
     "traceback": [
      "\u001b[1;31mRunning cells with 'base' requires the ipykernel package.\n",
      "\u001b[1;31mRun the following command to install 'ipykernel' into the Python environment. \n",
      "\u001b[1;31mCommand: 'conda install -n base ipykernel --update-deps --force-reinstall'"
     ]
    }
   ],
   "source": [
    "# Start by understanding the correlation matrix for the new data frame\n",
    "f, ax = plt.subplots(figsize=(10, 8))\n",
    "ax.set_title('Encoded Correlation Heatmap for Used Vehicles Dataset', pad=12)\n",
    "\n",
    "custdf = custdf.select_dtypes(include=['number'])\n",
    "sns.heatmap(custdf.corr(), vmin=-1, vmax=1, annot=True, cmap='Spectral')"
   ]
  },
  {
   "cell_type": "code",
   "execution_count": null,
   "id": "3c0c19c9",
   "metadata": {},
   "outputs": [
    {
     "ename": "",
     "evalue": "",
     "output_type": "error",
     "traceback": [
      "\u001b[1;31mRunning cells with 'base' requires the ipykernel package.\n",
      "\u001b[1;31mRun the following command to install 'ipykernel' into the Python environment. \n",
      "\u001b[1;31mCommand: 'conda install -n base ipykernel --update-deps --force-reinstall'"
     ]
    }
   ],
   "source": [
    "# Define X and Y for modeling\n",
    "X = custdf[['Avg. Session Length', 'Time on App',\n",
    "       'Time on Website', 'Length of Membership']]\n",
    "Y = custdf['Yearly Amount Spent']"
   ]
  },
  {
   "cell_type": "code",
   "execution_count": null,
   "id": "5645b077",
   "metadata": {},
   "outputs": [
    {
     "ename": "",
     "evalue": "",
     "output_type": "error",
     "traceback": [
      "\u001b[1;31mRunning cells with 'base' requires the ipykernel package.\n",
      "\u001b[1;31mRun the following command to install 'ipykernel' into the Python environment. \n",
      "\u001b[1;31mCommand: 'conda install -n base ipykernel --update-deps --force-reinstall'"
     ]
    }
   ],
   "source": [
    "# Split into training & Testing datasets\n",
    "X_train, X_test, y_train, y_test = train_test_split(X, Y,\n",
    "                                 test_size=0.3, random_state=101)"
   ]
  },
  {
   "cell_type": "markdown",
   "id": "63ed02bd",
   "metadata": {},
   "source": [
    "#### Linear Regression - Predict Yearly Spend"
   ]
  },
  {
   "cell_type": "code",
   "execution_count": null,
   "id": "4f08591f",
   "metadata": {},
   "outputs": [
    {
     "ename": "",
     "evalue": "",
     "output_type": "error",
     "traceback": [
      "\u001b[1;31mRunning cells with 'base' requires the ipykernel package.\n",
      "\u001b[1;31mRun the following command to install 'ipykernel' into the Python environment. \n",
      "\u001b[1;31mCommand: 'conda install -n base ipykernel --update-deps --force-reinstall'"
     ]
    }
   ],
   "source": [
    "# Create an instance of Linear Regression and Fit the training datasets\n",
    "lm = LinearRegression()\n",
    "lm.fit(X_train,y_train)"
   ]
  },
  {
   "cell_type": "code",
   "execution_count": null,
   "id": "25025810",
   "metadata": {},
   "outputs": [
    {
     "ename": "",
     "evalue": "",
     "output_type": "error",
     "traceback": [
      "\u001b[1;31mRunning cells with 'base' requires the ipykernel package.\n",
      "\u001b[1;31mRun the following command to install 'ipykernel' into the Python environment. \n",
      "\u001b[1;31mCommand: 'conda install -n base ipykernel --update-deps --force-reinstall'"
     ]
    }
   ],
   "source": [
    "# Creating a User Defined Function within Snowflake to do the scoring there\n",
    "def predict_pandas_udf(df: pd.DataFrame) -> pd.Series:\n",
    "    return pd.Series(lm.predict(df))  \n",
    "\n",
    "linear_model_vec = pandas_udf(func=predict_pandas_udf,\n",
    "                                return_type=FloatType(),\n",
    "                                input_types=[FloatType(),FloatType(),FloatType(),FloatType()],\n",
    "                                session=session,\n",
    "                                packages = (\"pandas\",\"scikit-learn\"), max_batch_size=200)"
   ]
  },
  {
   "cell_type": "code",
   "execution_count": null,
   "id": "6132216f",
   "metadata": {},
   "outputs": [
    {
     "ename": "",
     "evalue": "",
     "output_type": "error",
     "traceback": [
      "\u001b[1;31mRunning cells with 'base' requires the ipykernel package.\n",
      "\u001b[1;31mRun the following command to install 'ipykernel' into the Python environment. \n",
      "\u001b[1;31mCommand: 'conda install -n base ipykernel --update-deps --force-reinstall'"
     ]
    }
   ],
   "source": [
    "# Calling the UDF to do the scoring (pushing down to Snowflake)\n",
    "output = session.table('CUSTOMERS_NEW').select(*list(X.columns),\n",
    "                    linear_model_vec(list(X.columns)).alias('PREDICTED_SPEND'), \n",
    "                    (F.col('Yearly Amount Spent')).alias('ACTUAL_SPEND')\n",
    "                    )\n",
    "\n",
    "output.show(5)"
   ]
  },
  {
   "cell_type": "code",
   "execution_count": null,
   "id": "99332d94",
   "metadata": {},
   "outputs": [
    {
     "ename": "",
     "evalue": "",
     "output_type": "error",
     "traceback": [
      "\u001b[1;31mRunning cells with 'base' requires the ipykernel package.\n",
      "\u001b[1;31mRun the following command to install 'ipykernel' into the Python environment. \n",
      "\u001b[1;31mCommand: 'conda install -n base ipykernel --update-deps --force-reinstall'"
     ]
    }
   ],
   "source": [
    "# Save the predicted output as a table on Snowflake\n",
    "###used later in Streamlit app\n",
    "output.write.mode(\"overwrite\").saveAsTable(\"PREDICTED_CUSTOMER_SPEND\") \n",
    "\n",
    "# Also get a local dataframe to review the results\n",
    "output=output.toPandas()"
   ]
  },
  {
   "cell_type": "markdown",
   "id": "914c6f63",
   "metadata": {},
   "source": [
    "##### Plotting and comparing the predicted values with actual spend values"
   ]
  },
  {
   "cell_type": "code",
   "execution_count": null,
   "id": "e1229eb9",
   "metadata": {},
   "outputs": [
    {
     "ename": "",
     "evalue": "",
     "output_type": "error",
     "traceback": [
      "\u001b[1;31mRunning cells with 'base' requires the ipykernel package.\n",
      "\u001b[1;31mRun the following command to install 'ipykernel' into the Python environment. \n",
      "\u001b[1;31mCommand: 'conda install -n base ipykernel --update-deps --force-reinstall'"
     ]
    }
   ],
   "source": [
    "# Plot a descriptive scatter of predicted and actual values\n",
    "x = output.index\n",
    "y1 = output[\"ACTUAL_SPEND\"]\n",
    "y2 = output[\"PREDICTED_SPEND\"]\n",
    "\n",
    "f, ax = plt.subplots(figsize=(14, 8))\n",
    "plt.scatter(x, y1, c='tab:blue', s=y1/5)\n",
    "plt.scatter(x, y2, c='tab:red', s=y2/20)\n",
    "\n",
    "plt.title(f\"Actual Spend vs Predicted Spend - Linear Regression\")\n",
    "plt.ylabel(\"ACTUAL + PREDICTED SPEND\")\n",
    "plt.xlabel(\"CUSTOMER IDs\")\n",
    "ax.grid(True)\n",
    "plt.show()"
   ]
  },
  {
   "cell_type": "markdown",
   "id": "29ff0cea",
   "metadata": {},
   "source": [
    "*To start with, define a function for regression metrics*\n",
    "\n",
    "1. R² measures how much variability in dependent variable can be \"explained by the model.\n",
    "2. While R² is a relative measure of how well the model fits dependent variables, Mean Square Error is an absolute measure of the goodness for the fit.\n",
    "3. Mean Absolute Error(MAE) is similar to MSE, however, unlike MSE, MAE takes the sum of the ABSOLUTE value of error.\n",
    "\n",
    "*[Regression Merics Reference](https://towardsdatascience.com/regression-an-explanation-of-regression-metrics-and-what-can-go-wrong-a39a9793d914)*"
   ]
  },
  {
   "cell_type": "code",
   "execution_count": null,
   "id": "70abc4a5",
   "metadata": {},
   "outputs": [
    {
     "ename": "",
     "evalue": "",
     "output_type": "error",
     "traceback": [
      "\u001b[1;31mRunning cells with 'base' requires the ipykernel package.\n",
      "\u001b[1;31mRun the following command to install 'ipykernel' into the Python environment. \n",
      "\u001b[1;31mCommand: 'conda install -n base ipykernel --update-deps --force-reinstall'"
     ]
    }
   ],
   "source": [
    "#1 & 2 Coefficient of Determination (R² & Adjusted R²)\n",
    "print(\"\\n--- Coefficient of Determination (R²) ---\")\n",
    "r2 = metrics.r2_score(y_pred=y2, y_true=y1)\n",
    "print(f\"R²: {round(r2, 2)}\")\n",
    "\n",
    "#3 & 4. MSE and RMSE\n",
    "print(\"\\n--- Mean Squared Error (MSE & RMSE) ---\")\n",
    "\n",
    "mse = metrics.mean_squared_error(y_pred=y2, y_true=y1, squared=True)\n",
    "rmse = metrics.mean_squared_error(y_pred=y2, y_true=y1, squared=False)\n",
    "\n",
    "print(f\"MSE: {round(mse, 2)}\")\n",
    "print(f\"RMSE: {round(rmse, 2)}\")\n",
    "\n",
    "\n",
    "#5. MAE\n",
    "print(\"\\n--- Mean Absolute Error (MAE) ---\")\n",
    "mae = metrics.mean_absolute_error(y_pred=y2, y_true=y1)\n",
    "print(f\"MAE: {round(mae, 2)}\")"
   ]
  },
  {
   "cell_type": "code",
   "execution_count": null,
   "id": "c996c153",
   "metadata": {},
   "outputs": [
    {
     "ename": "",
     "evalue": "",
     "output_type": "error",
     "traceback": [
      "\u001b[1;31mRunning cells with 'base' requires the ipykernel package.\n",
      "\u001b[1;31mRun the following command to install 'ipykernel' into the Python environment. \n",
      "\u001b[1;31mCommand: 'conda install -n base ipykernel --update-deps --force-reinstall'"
     ]
    }
   ],
   "source": [
    "# Distribution of differences between actual and predicted values\n",
    "# Gaussian kernel density estimate.\n",
    "\n",
    "sns.displot((y2-y1),bins=50, kde=True, legend=True, height=6, aspect=2);"
   ]
  },
  {
   "cell_type": "code",
   "execution_count": null,
   "id": "b1909564",
   "metadata": {},
   "outputs": [
    {
     "ename": "",
     "evalue": "",
     "output_type": "error",
     "traceback": [
      "\u001b[1;31mRunning cells with 'base' requires the ipykernel package.\n",
      "\u001b[1;31mRun the following command to install 'ipykernel' into the Python environment. \n",
      "\u001b[1;31mCommand: 'conda install -n base ipykernel --update-deps --force-reinstall'"
     ]
    }
   ],
   "source": [
    "# Get coefficients from the fitted model\n",
    "coeff_df = pd.DataFrame(lm.coef_,X.columns,columns=['Coefficient']).round(2)\n",
    "coeff_df"
   ]
  },
  {
   "cell_type": "markdown",
   "id": "a069e936",
   "metadata": {},
   "source": [
    "### Conclusion\n",
    "Time spent on the app and Length of Membership are most important factors driving customer spend. The retailer should focus its efforts on increasing stickiness to its app and enhance its loyalty programs."
   ]
  }
 ],
 "metadata": {
  "kernelspec": {
   "display_name": "Python 3.8.13 ('Snowpark')",
   "language": "python",
   "name": "python3"
  },
  "language_info": {
   "codemirror_mode": {
    "name": "ipython",
    "version": 3
   },
   "file_extension": ".py",
   "mimetype": "text/x-python",
   "name": "python",
   "nbconvert_exporter": "python",
   "pygments_lexer": "ipython3",
   "version": "3.11.5"
  },
  "vscode": {
   "interpreter": {
    "hash": "8f3939231f85b66825af0f25c3ebfcf7e3d00e5843c3b078ed5a90a7c9ac532f"
   }
  }
 },
 "nbformat": 4,
 "nbformat_minor": 5
}
