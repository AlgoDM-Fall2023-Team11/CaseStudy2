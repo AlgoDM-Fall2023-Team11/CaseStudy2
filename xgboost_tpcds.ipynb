{
 "cells": [
  {
   "cell_type": "code",
   "execution_count": 11,
   "metadata": {},
   "outputs": [
    {
     "name": "stdout",
     "output_type": "stream",
     "text": [
      "c:\\Users\\Nakul Shiledar\\OneDrive\\Desktop\\ADM\\CaseStudy 2\\ADM_CaseStudy_2\n"
     ]
    }
   ],
   "source": [
    "# Base dir for this code\n",
    "import os\n",
    "base_dir = os.getcwd()\n",
    "print(base_dir)"
   ]
  },
  {
   "cell_type": "code",
   "execution_count": 12,
   "metadata": {},
   "outputs": [],
   "source": [
    "import json\n",
    "import pandas as pd\n",
    "\n",
    "from snowflake.snowpark import functions as F\n",
    "from snowflake.snowpark import version as v\n",
    "from snowflake.snowpark.session import Session\n",
    "\n",
    "from snowflake.ml.modeling.xgboost import XGBRegressor\n",
    "from snowflake.ml.modeling.preprocessing import KBinsDiscretizer, OneHotEncoder\n",
    "from snowflake.ml.modeling.impute import SimpleImputer"
   ]
  },
  {
   "cell_type": "code",
   "execution_count": 13,
   "metadata": {},
   "outputs": [],
   "source": [
    "import warnings\n",
    "warnings.filterwarnings(\"ignore\")"
   ]
  },
  {
   "cell_type": "markdown",
   "metadata": {},
   "source": [
    "# 1.0 Snowflake Setup"
   ]
  },
  {
   "cell_type": "code",
   "execution_count": 14,
   "metadata": {},
   "outputs": [],
   "source": [
    "# Ensure that your credentials are stored in creds.json\n",
    "with open('creds.json') as f:\n",
    "    data = json.load(f)\n",
    "    USERNAME = data['user']\n",
    "    PASSWORD = data['password']\n",
    "    SF_ACCOUNT = data['account']\n",
    "    SF_WH = data['warehouse']\n",
    "\n",
    "CONNECTION_PARAMETERS = {\n",
    "   \"account\": SF_ACCOUNT,\n",
    "   \"user\": USERNAME,\n",
    "   \"password\": PASSWORD,\n",
    "}\n",
    "\n",
    "session = Session.builder.configs(CONNECTION_PARAMETERS).create()"
   ]
  },
  {
   "cell_type": "markdown",
   "metadata": {},
   "source": [
    "#### Ensure that TPC-DS dataset is available in your environment."
   ]
  },
  {
   "cell_type": "code",
   "execution_count": 15,
   "metadata": {},
   "outputs": [],
   "source": [
    "session.sql('CREATE DATABASE IF NOT EXISTS tpcds_xgboost').collect()\n",
    "session.sql('CREATE SCHEMA IF NOT EXISTS tpcds_xgboost.demo').collect()\n",
    "session.sql(\"create or replace warehouse FE_AND_INFERENCE_WH with warehouse_size='3X-LARGE'\").collect()\n",
    "session.sql(\"create or replace warehouse snowpark_opt_wh with warehouse_size = 'MEDIUM' warehouse_type = 'SNOWPARK-OPTIMIZED'\").collect()\n",
    "session.sql(\"alter warehouse snowpark_opt_wh set max_concurrency_level = 1\").collect()\n",
    "session.sql(\"CREATE OR REPLACE STAGE TPCDS_XGBOOST.DEMO.ML_MODELS\").collect()\n",
    "session.use_warehouse('FE_AND_INFERENCE_WH')\n",
    "session.use_database('tpcds_xgboost')\n",
    "session.use_schema('demo')"
   ]
  },
  {
   "cell_type": "markdown",
   "metadata": {},
   "source": [
    "Select either 100 or 10 for the TPC-DS Dataset size to use below. See (https://docs.snowflake.com/en/user-guide/sample-data-tpcds.html)[here] for more information If you choose 100, I recommend >= 3XL warehouse. "
   ]
  },
  {
   "cell_type": "code",
   "execution_count": 17,
   "metadata": {},
   "outputs": [],
   "source": [
    "TPCDS_SIZE_PARAM = 10\n",
    "SNOWFLAKE_SAMPLE_DB = 'SNOWFLAKE_SAMPLE_DATA' # Name of Snowflake Sample Database might be different...\n",
    "\n",
    "if TPCDS_SIZE_PARAM == 100: \n",
    "    TPCDS_SCHEMA = 'TPCDS_SF100TCL'\n",
    "elif TPCDS_SIZE_PARAM == 10:\n",
    "    TPCDS_SCHEMA = 'TPCDS_SF10TCL'\n",
    "else:\n",
    "    raise ValueError(\"Invalid TPCDS_SIZE_PARAM selection\")\n",
    "    \n",
    "store_sales = session.table(f'{SNOWFLAKE_SAMPLE_DB}.{TPCDS_SCHEMA}.store_sales')\n",
    "catalog_sales = session.table(f'{SNOWFLAKE_SAMPLE_DB}.{TPCDS_SCHEMA}.catalog_sales') \n",
    "web_sales = session.table(f'{SNOWFLAKE_SAMPLE_DB}.{TPCDS_SCHEMA}.web_sales') \n",
    "date = session.table(f'{SNOWFLAKE_SAMPLE_DB}.{TPCDS_SCHEMA}.date_dim')\n",
    "dim_stores = session.table(f'{SNOWFLAKE_SAMPLE_DB}.{TPCDS_SCHEMA}.store')\n",
    "customer = session.table(f'{SNOWFLAKE_SAMPLE_DB}.{TPCDS_SCHEMA}.customer')\n",
    "address = session.table(f'{SNOWFLAKE_SAMPLE_DB}.{TPCDS_SCHEMA}.customer_address')\n",
    "demo = session.table(f'{SNOWFLAKE_SAMPLE_DB}.{TPCDS_SCHEMA}.customer_demographics')"
   ]
  },
  {
   "cell_type": "markdown",
   "metadata": {},
   "source": [
    "# 2.0 Data Engineering\n",
    "We will aggregate sales by customer across all channels(web, store, catalogue) and join that to customer demographic data. "
   ]
  },
  {
   "cell_type": "code",
   "execution_count": 18,
   "metadata": {},
   "outputs": [],
   "source": [
    "store_sales_agged = store_sales.group_by('ss_customer_sk').agg(F.sum('ss_sales_price').as_('total_sales'))\n",
    "web_sales_agged = web_sales.group_by('ws_bill_customer_sk').agg(F.sum('ws_sales_price').as_('total_sales'))\n",
    "catalog_sales_agged = catalog_sales.group_by('cs_bill_customer_sk').agg(F.sum('cs_sales_price').as_('total_sales'))\n",
    "store_sales_agged = store_sales_agged.rename('ss_customer_sk', 'customer_sk')\n",
    "web_sales_agged = web_sales_agged.rename('ws_bill_customer_sk', 'customer_sk')\n",
    "catalog_sales_agged = catalog_sales_agged.rename('cs_bill_customer_sk', 'customer_sk')"
   ]
  },
  {
   "cell_type": "code",
   "execution_count": 19,
   "metadata": {},
   "outputs": [],
   "source": [
    "total_sales = store_sales_agged.union_all(web_sales_agged)\n",
    "total_sales = total_sales.union_all(catalog_sales_agged)"
   ]
  },
  {
   "cell_type": "code",
   "execution_count": 20,
   "metadata": {},
   "outputs": [],
   "source": [
    "total_sales = total_sales.group_by('customer_sk').agg(F.sum('total_sales').as_('total_sales'))"
   ]
  },
  {
   "cell_type": "code",
   "execution_count": 21,
   "metadata": {},
   "outputs": [],
   "source": [
    "customer = customer.select('c_customer_sk','c_current_hdemo_sk', 'c_current_addr_sk', 'c_customer_id', 'c_birth_year')"
   ]
  },
  {
   "cell_type": "code",
   "execution_count": 22,
   "metadata": {},
   "outputs": [],
   "source": [
    "customer = customer.join(address.select('ca_address_sk', 'ca_zip'), customer['c_current_addr_sk'] == address['ca_address_sk'] )\n",
    "customer = customer.join(demo.select('cd_demo_sk', 'cd_gender', 'cd_marital_status', 'cd_credit_rating', 'cd_education_status', 'cd_dep_count'),\n",
    "                                customer['c_current_hdemo_sk'] == demo['cd_demo_sk'] )\n",
    "customer = customer.rename('c_customer_sk', 'customer_sk')"
   ]
  },
  {
   "cell_type": "code",
   "execution_count": 23,
   "metadata": {},
   "outputs": [
    {
     "data": {
      "text/html": [
       "<div>\n",
       "<style scoped>\n",
       "    .dataframe tbody tr th:only-of-type {\n",
       "        vertical-align: middle;\n",
       "    }\n",
       "\n",
       "    .dataframe tbody tr th {\n",
       "        vertical-align: top;\n",
       "    }\n",
       "\n",
       "    .dataframe thead th {\n",
       "        text-align: right;\n",
       "    }\n",
       "</style>\n",
       "<table border=\"1\" class=\"dataframe\">\n",
       "  <thead>\n",
       "    <tr style=\"text-align: right;\">\n",
       "      <th></th>\n",
       "      <th>CUSTOMER_SK</th>\n",
       "      <th>C_CURRENT_HDEMO_SK</th>\n",
       "      <th>C_CURRENT_ADDR_SK</th>\n",
       "      <th>C_CUSTOMER_ID</th>\n",
       "      <th>C_BIRTH_YEAR</th>\n",
       "      <th>CA_ADDRESS_SK</th>\n",
       "      <th>CA_ZIP</th>\n",
       "      <th>CD_DEMO_SK</th>\n",
       "      <th>CD_GENDER</th>\n",
       "      <th>CD_MARITAL_STATUS</th>\n",
       "      <th>CD_CREDIT_RATING</th>\n",
       "      <th>CD_EDUCATION_STATUS</th>\n",
       "      <th>CD_DEP_COUNT</th>\n",
       "    </tr>\n",
       "  </thead>\n",
       "  <tbody>\n",
       "    <tr>\n",
       "      <th>0</th>\n",
       "      <td>47565134</td>\n",
       "      <td>2903</td>\n",
       "      <td>11432972</td>\n",
       "      <td>AAAAAAAAOEJMFNCA</td>\n",
       "      <td>1990</td>\n",
       "      <td>11432972</td>\n",
       "      <td>68371</td>\n",
       "      <td>2903</td>\n",
       "      <td>M</td>\n",
       "      <td>S</td>\n",
       "      <td>High Risk</td>\n",
       "      <td>2 yr Degree</td>\n",
       "      <td>0</td>\n",
       "    </tr>\n",
       "    <tr>\n",
       "      <th>1</th>\n",
       "      <td>47565135</td>\n",
       "      <td>2457</td>\n",
       "      <td>29478386</td>\n",
       "      <td>AAAAAAAAPEJMFNCA</td>\n",
       "      <td>1966</td>\n",
       "      <td>29478386</td>\n",
       "      <td>70499</td>\n",
       "      <td>2457</td>\n",
       "      <td>M</td>\n",
       "      <td>W</td>\n",
       "      <td>Low Risk</td>\n",
       "      <td>Primary</td>\n",
       "      <td>0</td>\n",
       "    </tr>\n",
       "    <tr>\n",
       "      <th>2</th>\n",
       "      <td>47565136</td>\n",
       "      <td>450</td>\n",
       "      <td>23602579</td>\n",
       "      <td>AAAAAAAAAFJMFNCA</td>\n",
       "      <td>1934</td>\n",
       "      <td>23602579</td>\n",
       "      <td>11952</td>\n",
       "      <td>450</td>\n",
       "      <td>F</td>\n",
       "      <td>U</td>\n",
       "      <td>Good</td>\n",
       "      <td>College</td>\n",
       "      <td>0</td>\n",
       "    </tr>\n",
       "    <tr>\n",
       "      <th>3</th>\n",
       "      <td>47565137</td>\n",
       "      <td>1315</td>\n",
       "      <td>616770</td>\n",
       "      <td>AAAAAAAABFJMFNCA</td>\n",
       "      <td>1969</td>\n",
       "      <td>616770</td>\n",
       "      <td>54593</td>\n",
       "      <td>1315</td>\n",
       "      <td>M</td>\n",
       "      <td>D</td>\n",
       "      <td>Good</td>\n",
       "      <td>Advanced Degree</td>\n",
       "      <td>0</td>\n",
       "    </tr>\n",
       "    <tr>\n",
       "      <th>4</th>\n",
       "      <td>47565138</td>\n",
       "      <td>2064</td>\n",
       "      <td>3437061</td>\n",
       "      <td>AAAAAAAACFJMFNCA</td>\n",
       "      <td>1974</td>\n",
       "      <td>3437061</td>\n",
       "      <td>99310</td>\n",
       "      <td>2064</td>\n",
       "      <td>F</td>\n",
       "      <td>S</td>\n",
       "      <td>Low Risk</td>\n",
       "      <td>2 yr Degree</td>\n",
       "      <td>0</td>\n",
       "    </tr>\n",
       "  </tbody>\n",
       "</table>\n",
       "</div>"
      ],
      "text/plain": [
       "   CUSTOMER_SK  C_CURRENT_HDEMO_SK  C_CURRENT_ADDR_SK     C_CUSTOMER_ID  \\\n",
       "0     47565134                2903           11432972  AAAAAAAAOEJMFNCA   \n",
       "1     47565135                2457           29478386  AAAAAAAAPEJMFNCA   \n",
       "2     47565136                 450           23602579  AAAAAAAAAFJMFNCA   \n",
       "3     47565137                1315             616770  AAAAAAAABFJMFNCA   \n",
       "4     47565138                2064            3437061  AAAAAAAACFJMFNCA   \n",
       "\n",
       "   C_BIRTH_YEAR  CA_ADDRESS_SK CA_ZIP  CD_DEMO_SK CD_GENDER CD_MARITAL_STATUS  \\\n",
       "0          1990       11432972  68371        2903         M                 S   \n",
       "1          1966       29478386  70499        2457         M                 W   \n",
       "2          1934       23602579  11952         450         F                 U   \n",
       "3          1969         616770  54593        1315         M                 D   \n",
       "4          1974        3437061  99310        2064         F                 S   \n",
       "\n",
       "  CD_CREDIT_RATING CD_EDUCATION_STATUS  CD_DEP_COUNT  \n",
       "0        High Risk         2 yr Degree             0  \n",
       "1         Low Risk             Primary             0  \n",
       "2             Good             College             0  \n",
       "3             Good     Advanced Degree             0  \n",
       "4         Low Risk         2 yr Degree             0  "
      ]
     },
     "execution_count": 23,
     "metadata": {},
     "output_type": "execute_result"
    }
   ],
   "source": [
    "customer.limit(5).to_pandas()"
   ]
  },
  {
   "cell_type": "code",
   "execution_count": 24,
   "metadata": {},
   "outputs": [],
   "source": [
    "final_df = total_sales.join(customer, on='customer_sk')"
   ]
  },
  {
   "cell_type": "code",
   "execution_count": 19,
   "metadata": {},
   "outputs": [
    {
     "data": {
      "text/plain": [
       "62726989"
      ]
     },
     "execution_count": 19,
     "metadata": {},
     "output_type": "execute_result"
    }
   ],
   "source": [
    "# Size of the final DF is around 95 Million.\n",
    "final_df.count()"
   ]
  },
  {
   "cell_type": "code",
   "execution_count": 25,
   "metadata": {},
   "outputs": [],
   "source": [
    "session.use_database('tpcds_xgboost')\n",
    "session.use_schema('demo')\n",
    "final_df.write.mode('overwrite').save_as_table('feature_store')"
   ]
  },
  {
   "cell_type": "markdown",
   "metadata": {},
   "source": [
    "# 3.0 Feature Engineering"
   ]
  },
  {
   "cell_type": "code",
   "execution_count": 26,
   "metadata": {},
   "outputs": [],
   "source": [
    "session.use_warehouse('snowpark_opt_wh')\n",
    "session.use_database('tpcds_xgboost')\n",
    "session.use_schema('demo')"
   ]
  },
  {
   "cell_type": "code",
   "execution_count": 27,
   "metadata": {},
   "outputs": [],
   "source": [
    "snowdf = session.table(\"feature_store\")\n",
    "snowdf = snowdf.drop(['CA_ZIP','CUSTOMER_SK', 'C_CURRENT_HDEMO_SK', 'C_CURRENT_ADDR_SK', 'C_CUSTOMER_ID', 'CA_ADDRESS_SK', 'CD_DEMO_SK'])"
   ]
  },
  {
   "cell_type": "code",
   "execution_count": 28,
   "metadata": {},
   "outputs": [
    {
     "data": {
      "text/html": [
       "<div>\n",
       "<style scoped>\n",
       "    .dataframe tbody tr th:only-of-type {\n",
       "        vertical-align: middle;\n",
       "    }\n",
       "\n",
       "    .dataframe tbody tr th {\n",
       "        vertical-align: top;\n",
       "    }\n",
       "\n",
       "    .dataframe thead th {\n",
       "        text-align: right;\n",
       "    }\n",
       "</style>\n",
       "<table border=\"1\" class=\"dataframe\">\n",
       "  <thead>\n",
       "    <tr style=\"text-align: right;\">\n",
       "      <th></th>\n",
       "      <th>TOTAL_SALES</th>\n",
       "      <th>C_BIRTH_YEAR</th>\n",
       "      <th>CD_GENDER</th>\n",
       "      <th>CD_MARITAL_STATUS</th>\n",
       "      <th>CD_CREDIT_RATING</th>\n",
       "      <th>CD_EDUCATION_STATUS</th>\n",
       "      <th>CD_DEP_COUNT</th>\n",
       "    </tr>\n",
       "  </thead>\n",
       "  <tbody>\n",
       "    <tr>\n",
       "      <th>0</th>\n",
       "      <td>29584.59</td>\n",
       "      <td>1971</td>\n",
       "      <td>M</td>\n",
       "      <td>W</td>\n",
       "      <td>Good</td>\n",
       "      <td>Advanced Degree</td>\n",
       "      <td>0</td>\n",
       "    </tr>\n",
       "    <tr>\n",
       "      <th>1</th>\n",
       "      <td>29813.04</td>\n",
       "      <td>1985</td>\n",
       "      <td>M</td>\n",
       "      <td>W</td>\n",
       "      <td>Good</td>\n",
       "      <td>Advanced Degree</td>\n",
       "      <td>0</td>\n",
       "    </tr>\n",
       "    <tr>\n",
       "      <th>2</th>\n",
       "      <td>26842.17</td>\n",
       "      <td>1937</td>\n",
       "      <td>M</td>\n",
       "      <td>W</td>\n",
       "      <td>Good</td>\n",
       "      <td>Advanced Degree</td>\n",
       "      <td>0</td>\n",
       "    </tr>\n",
       "    <tr>\n",
       "      <th>3</th>\n",
       "      <td>36035.25</td>\n",
       "      <td>1934</td>\n",
       "      <td>M</td>\n",
       "      <td>W</td>\n",
       "      <td>Good</td>\n",
       "      <td>Advanced Degree</td>\n",
       "      <td>0</td>\n",
       "    </tr>\n",
       "    <tr>\n",
       "      <th>4</th>\n",
       "      <td>27095.80</td>\n",
       "      <td>1971</td>\n",
       "      <td>M</td>\n",
       "      <td>W</td>\n",
       "      <td>Good</td>\n",
       "      <td>Advanced Degree</td>\n",
       "      <td>0</td>\n",
       "    </tr>\n",
       "  </tbody>\n",
       "</table>\n",
       "</div>"
      ],
      "text/plain": [
       "   TOTAL_SALES  C_BIRTH_YEAR CD_GENDER CD_MARITAL_STATUS CD_CREDIT_RATING  \\\n",
       "0     29584.59          1971         M                 W             Good   \n",
       "1     29813.04          1985         M                 W             Good   \n",
       "2     26842.17          1937         M                 W             Good   \n",
       "3     36035.25          1934         M                 W             Good   \n",
       "4     27095.80          1971         M                 W             Good   \n",
       "\n",
       "  CD_EDUCATION_STATUS  CD_DEP_COUNT  \n",
       "0     Advanced Degree             0  \n",
       "1     Advanced Degree             0  \n",
       "2     Advanced Degree             0  \n",
       "3     Advanced Degree             0  \n",
       "4     Advanced Degree             0  "
      ]
     },
     "execution_count": 28,
     "metadata": {},
     "output_type": "execute_result"
    }
   ],
   "source": [
    "snowdf.limit(5).to_pandas()"
   ]
  },
  {
   "cell_type": "code",
   "execution_count": 29,
   "metadata": {},
   "outputs": [],
   "source": [
    "cat_cols = ['CD_GENDER', 'CD_MARITAL_STATUS', 'CD_CREDIT_RATING', 'CD_EDUCATION_STATUS']\n",
    "num_cols = ['C_BIRTH_YEAR', 'CD_DEP_COUNT']"
   ]
  },
  {
   "cell_type": "markdown",
   "metadata": {},
   "source": [
    "### 3.1 Missing Value Imputation\n",
    "\n",
    "We can use the SimpleImputer in snowflake.ml.preprocessing to replace missing values with the most frequent.\n",
    "\n",
    "```python\n",
    "# SimpleImputer in snowflake.ml.preprocessing\n",
    "from snowflake.ml.modeling.impute import SimpleImputer\n",
    "my_imputer = sfml.preprocessing.SimpleImputer(input_cols=['your_column'],\n",
    "                                output_cols=['your_column'],\n",
    "                                strategy='constant',\n",
    "                                fill_value='OTHER')\n",
    "my_imputer.fit(my_sdf)\n",
    "my_sdf = my_imputer.transform(my_sdf)\n",
    "```"
   ]
  },
  {
   "cell_type": "code",
   "execution_count": 30,
   "metadata": {},
   "outputs": [
    {
     "name": "stderr",
     "output_type": "stream",
     "text": [
      "Input value type doesn't match the target column data type, this replacement was skipped. Column Name: \"C_BIRTH_YEAR\", Type: LongType(), Input Value: 1958.0, Type: <class 'float'>\n",
      "Input value type doesn't match the target column data type, this replacement was skipped. Column Name: \"CD_DEP_COUNT\", Type: LongType(), Input Value: 0.0, Type: <class 'float'>\n"
     ]
    }
   ],
   "source": [
    "# Imputation of Numeric Cols\n",
    "my_imputer = SimpleImputer(input_cols= num_cols,\n",
    "                           output_cols= num_cols,\n",
    "                           strategy='median')\n",
    "sdf_prepared = my_imputer.fit(snowdf).transform(snowdf)"
   ]
  },
  {
   "cell_type": "markdown",
   "metadata": {},
   "source": [
    "### 3.2 One-Hot Encoding of Categorical Cols"
   ]
  },
  {
   "cell_type": "code",
   "execution_count": 31,
   "metadata": {},
   "outputs": [],
   "source": [
    "# OHE of Categorical Cols\n",
    "my_ohe_encoder = OneHotEncoder(input_cols=cat_cols, output_cols=cat_cols, drop_input_cols=True)\n",
    "sdf_prepared = my_ohe_encoder.fit(sdf_prepared).transform(sdf_prepared)"
   ]
  },
  {
   "cell_type": "code",
   "execution_count": 34,
   "metadata": {},
   "outputs": [
    {
     "data": {
      "text/html": [
       "<div>\n",
       "<style scoped>\n",
       "    .dataframe tbody tr th:only-of-type {\n",
       "        vertical-align: middle;\n",
       "    }\n",
       "\n",
       "    .dataframe tbody tr th {\n",
       "        vertical-align: top;\n",
       "    }\n",
       "\n",
       "    .dataframe thead th {\n",
       "        text-align: right;\n",
       "    }\n",
       "</style>\n",
       "<table border=\"1\" class=\"dataframe\">\n",
       "  <thead>\n",
       "    <tr style=\"text-align: right;\">\n",
       "      <th></th>\n",
       "      <th>CD_GENDER_F</th>\n",
       "      <th>CD_GENDER_M</th>\n",
       "      <th>CD_MARITAL_STATUS_D</th>\n",
       "      <th>CD_MARITAL_STATUS_M</th>\n",
       "      <th>CD_MARITAL_STATUS_S</th>\n",
       "      <th>CD_MARITAL_STATUS_U</th>\n",
       "      <th>CD_MARITAL_STATUS_W</th>\n",
       "      <th>CD_CREDIT_RATING_Good</th>\n",
       "      <th>CD_CREDIT_RATING_High Risk</th>\n",
       "      <th>CD_CREDIT_RATING_Low Risk</th>\n",
       "      <th>...</th>\n",
       "      <th>CD_EDUCATION_STATUS_2 yr Degree</th>\n",
       "      <th>CD_EDUCATION_STATUS_4 yr Degree</th>\n",
       "      <th>CD_EDUCATION_STATUS_Advanced Degree</th>\n",
       "      <th>CD_EDUCATION_STATUS_College</th>\n",
       "      <th>CD_EDUCATION_STATUS_Primary</th>\n",
       "      <th>CD_EDUCATION_STATUS_Secondary</th>\n",
       "      <th>CD_EDUCATION_STATUS_Unknown</th>\n",
       "      <th>C_BIRTH_YEAR</th>\n",
       "      <th>CD_DEP_COUNT</th>\n",
       "      <th>TOTAL_SALES</th>\n",
       "    </tr>\n",
       "  </thead>\n",
       "  <tbody>\n",
       "    <tr>\n",
       "      <th>0</th>\n",
       "      <td>1.0</td>\n",
       "      <td>0.0</td>\n",
       "      <td>0.0</td>\n",
       "      <td>0.0</td>\n",
       "      <td>0.0</td>\n",
       "      <td>1.0</td>\n",
       "      <td>0.0</td>\n",
       "      <td>1.0</td>\n",
       "      <td>0.0</td>\n",
       "      <td>0.0</td>\n",
       "      <td>...</td>\n",
       "      <td>0.0</td>\n",
       "      <td>0.0</td>\n",
       "      <td>1.0</td>\n",
       "      <td>0.0</td>\n",
       "      <td>0.0</td>\n",
       "      <td>0.0</td>\n",
       "      <td>0.0</td>\n",
       "      <td>1986</td>\n",
       "      <td>0</td>\n",
       "      <td>28478.76</td>\n",
       "    </tr>\n",
       "    <tr>\n",
       "      <th>1</th>\n",
       "      <td>1.0</td>\n",
       "      <td>0.0</td>\n",
       "      <td>0.0</td>\n",
       "      <td>0.0</td>\n",
       "      <td>0.0</td>\n",
       "      <td>1.0</td>\n",
       "      <td>0.0</td>\n",
       "      <td>1.0</td>\n",
       "      <td>0.0</td>\n",
       "      <td>0.0</td>\n",
       "      <td>...</td>\n",
       "      <td>0.0</td>\n",
       "      <td>0.0</td>\n",
       "      <td>1.0</td>\n",
       "      <td>0.0</td>\n",
       "      <td>0.0</td>\n",
       "      <td>0.0</td>\n",
       "      <td>0.0</td>\n",
       "      <td>1933</td>\n",
       "      <td>0</td>\n",
       "      <td>27504.46</td>\n",
       "    </tr>\n",
       "    <tr>\n",
       "      <th>2</th>\n",
       "      <td>1.0</td>\n",
       "      <td>0.0</td>\n",
       "      <td>0.0</td>\n",
       "      <td>0.0</td>\n",
       "      <td>0.0</td>\n",
       "      <td>1.0</td>\n",
       "      <td>0.0</td>\n",
       "      <td>1.0</td>\n",
       "      <td>0.0</td>\n",
       "      <td>0.0</td>\n",
       "      <td>...</td>\n",
       "      <td>0.0</td>\n",
       "      <td>0.0</td>\n",
       "      <td>1.0</td>\n",
       "      <td>0.0</td>\n",
       "      <td>0.0</td>\n",
       "      <td>0.0</td>\n",
       "      <td>0.0</td>\n",
       "      <td>1941</td>\n",
       "      <td>0</td>\n",
       "      <td>33449.40</td>\n",
       "    </tr>\n",
       "    <tr>\n",
       "      <th>3</th>\n",
       "      <td>1.0</td>\n",
       "      <td>0.0</td>\n",
       "      <td>0.0</td>\n",
       "      <td>0.0</td>\n",
       "      <td>0.0</td>\n",
       "      <td>1.0</td>\n",
       "      <td>0.0</td>\n",
       "      <td>1.0</td>\n",
       "      <td>0.0</td>\n",
       "      <td>0.0</td>\n",
       "      <td>...</td>\n",
       "      <td>0.0</td>\n",
       "      <td>0.0</td>\n",
       "      <td>1.0</td>\n",
       "      <td>0.0</td>\n",
       "      <td>0.0</td>\n",
       "      <td>0.0</td>\n",
       "      <td>0.0</td>\n",
       "      <td>1940</td>\n",
       "      <td>0</td>\n",
       "      <td>27887.45</td>\n",
       "    </tr>\n",
       "    <tr>\n",
       "      <th>4</th>\n",
       "      <td>1.0</td>\n",
       "      <td>0.0</td>\n",
       "      <td>0.0</td>\n",
       "      <td>0.0</td>\n",
       "      <td>0.0</td>\n",
       "      <td>1.0</td>\n",
       "      <td>0.0</td>\n",
       "      <td>1.0</td>\n",
       "      <td>0.0</td>\n",
       "      <td>0.0</td>\n",
       "      <td>...</td>\n",
       "      <td>0.0</td>\n",
       "      <td>0.0</td>\n",
       "      <td>1.0</td>\n",
       "      <td>0.0</td>\n",
       "      <td>0.0</td>\n",
       "      <td>0.0</td>\n",
       "      <td>0.0</td>\n",
       "      <td>1976</td>\n",
       "      <td>0</td>\n",
       "      <td>30101.77</td>\n",
       "    </tr>\n",
       "  </tbody>\n",
       "</table>\n",
       "<p>5 rows × 21 columns</p>\n",
       "</div>"
      ],
      "text/plain": [
       "   CD_GENDER_F  CD_GENDER_M  CD_MARITAL_STATUS_D  CD_MARITAL_STATUS_M  \\\n",
       "0          1.0          0.0                  0.0                  0.0   \n",
       "1          1.0          0.0                  0.0                  0.0   \n",
       "2          1.0          0.0                  0.0                  0.0   \n",
       "3          1.0          0.0                  0.0                  0.0   \n",
       "4          1.0          0.0                  0.0                  0.0   \n",
       "\n",
       "   CD_MARITAL_STATUS_S  CD_MARITAL_STATUS_U  CD_MARITAL_STATUS_W  \\\n",
       "0                  0.0                  1.0                  0.0   \n",
       "1                  0.0                  1.0                  0.0   \n",
       "2                  0.0                  1.0                  0.0   \n",
       "3                  0.0                  1.0                  0.0   \n",
       "4                  0.0                  1.0                  0.0   \n",
       "\n",
       "   CD_CREDIT_RATING_Good  CD_CREDIT_RATING_High Risk  \\\n",
       "0                    1.0                         0.0   \n",
       "1                    1.0                         0.0   \n",
       "2                    1.0                         0.0   \n",
       "3                    1.0                         0.0   \n",
       "4                    1.0                         0.0   \n",
       "\n",
       "   CD_CREDIT_RATING_Low Risk  ...  CD_EDUCATION_STATUS_2 yr Degree  \\\n",
       "0                        0.0  ...                              0.0   \n",
       "1                        0.0  ...                              0.0   \n",
       "2                        0.0  ...                              0.0   \n",
       "3                        0.0  ...                              0.0   \n",
       "4                        0.0  ...                              0.0   \n",
       "\n",
       "   CD_EDUCATION_STATUS_4 yr Degree  CD_EDUCATION_STATUS_Advanced Degree  \\\n",
       "0                              0.0                                  1.0   \n",
       "1                              0.0                                  1.0   \n",
       "2                              0.0                                  1.0   \n",
       "3                              0.0                                  1.0   \n",
       "4                              0.0                                  1.0   \n",
       "\n",
       "   CD_EDUCATION_STATUS_College  CD_EDUCATION_STATUS_Primary  \\\n",
       "0                          0.0                          0.0   \n",
       "1                          0.0                          0.0   \n",
       "2                          0.0                          0.0   \n",
       "3                          0.0                          0.0   \n",
       "4                          0.0                          0.0   \n",
       "\n",
       "   CD_EDUCATION_STATUS_Secondary  CD_EDUCATION_STATUS_Unknown  C_BIRTH_YEAR  \\\n",
       "0                            0.0                          0.0          1986   \n",
       "1                            0.0                          0.0          1933   \n",
       "2                            0.0                          0.0          1941   \n",
       "3                            0.0                          0.0          1940   \n",
       "4                            0.0                          0.0          1976   \n",
       "\n",
       "   CD_DEP_COUNT  TOTAL_SALES  \n",
       "0             0     28478.76  \n",
       "1             0     27504.46  \n",
       "2             0     33449.40  \n",
       "3             0     27887.45  \n",
       "4             0     30101.77  \n",
       "\n",
       "[5 rows x 21 columns]"
      ]
     },
     "execution_count": 34,
     "metadata": {},
     "output_type": "execute_result"
    }
   ],
   "source": [
    "sdf_prepared.limit(5).to_pandas()"
   ]
  },
  {
   "cell_type": "markdown",
   "metadata": {},
   "source": [
    "### 3.3 Clean column names"
   ]
  },
  {
   "cell_type": "code",
   "execution_count": 35,
   "metadata": {},
   "outputs": [],
   "source": [
    "# Cleaning column names to make it easier for future referencing\n",
    "import re\n",
    "\n",
    "cols = sdf_prepared.columns\n",
    "for old_col in cols:\n",
    "    new_col = re.sub(r'[^a-zA-Z0-9_]', '', old_col)\n",
    "    new_col = new_col.upper()\n",
    "    sdf_prepared = sdf_prepared.withColumnRenamed(old_col, new_col)"
   ]
  },
  {
   "cell_type": "markdown",
   "metadata": {},
   "source": [
    "# 4.0 ML Modeling"
   ]
  },
  {
   "cell_type": "code",
   "execution_count": 36,
   "metadata": {},
   "outputs": [],
   "source": [
    "# Use Snowpark Optimized Warehouse\n",
    "session.use_warehouse('snowpark_opt_wh')"
   ]
  },
  {
   "cell_type": "markdown",
   "metadata": {},
   "source": [
    "### 4.1 Prepare data"
   ]
  },
  {
   "cell_type": "code",
   "execution_count": 37,
   "metadata": {},
   "outputs": [],
   "source": [
    "# Prepare Data for modeling\n",
    "feature_cols = sdf_prepared.columns\n",
    "feature_cols.remove('TOTAL_SALES')\n",
    "target_col = 'TOTAL_SALES'"
   ]
  },
  {
   "cell_type": "code",
   "execution_count": 38,
   "metadata": {},
   "outputs": [],
   "source": [
    "# Save the train and test sets as time stamped tables in Snowflake\n",
    "snowdf_train, snowdf_test = sdf_prepared.random_split([0.8, 0.2], seed=82) \n",
    "snowdf_train.write.mode(\"overwrite\").save_as_table(\"tpcds_xgboost.demo.tpc_TRAIN\")\n",
    "snowdf_test.write.mode(\"overwrite\").save_as_table(\"tpcds_xgboost.demo.tpc_TEST\")"
   ]
  },
  {
   "cell_type": "markdown",
   "metadata": {},
   "source": [
    "### 4.2 Initialize Model and Fit"
   ]
  },
  {
   "cell_type": "code",
   "execution_count": 39,
   "metadata": {},
   "outputs": [
    {
     "name": "stderr",
     "output_type": "stream",
     "text": [
      "The version of package 'snowflake-snowpark-python' in the local environment is 1.9.0, which does not fit the criteria for the requirement 'snowflake-snowpark-python'. Your UDF might not work when the package version is different between the server and your local environment.\n"
     ]
    },
    {
     "data": {
      "text/plain": [
       "<snowflake.ml.modeling.xgboost.xgb_regressor.XGBRegressor at 0x236ce7535b0>"
      ]
     },
     "execution_count": 39,
     "metadata": {},
     "output_type": "execute_result"
    }
   ],
   "source": [
    "# Define the XGBRegressor and fit the model\n",
    "xgbmodel = XGBRegressor(random_state=123, input_cols=feature_cols, label_cols=target_col, output_cols='PREDICTION')\n",
    "xgbmodel.fit(snowdf_train)"
   ]
  },
  {
   "cell_type": "markdown",
   "metadata": {},
   "source": [
    "### 4.3 Predict on test set"
   ]
  },
  {
   "cell_type": "code",
   "execution_count": 40,
   "metadata": {},
   "outputs": [],
   "source": [
    "# Score the data using the fitted xgbmodel\n",
    "sdf_scored = xgbmodel.predict(snowdf_test)"
   ]
  },
  {
   "cell_type": "code",
   "execution_count": 43,
   "metadata": {},
   "outputs": [
    {
     "data": {
      "text/html": [
       "<div>\n",
       "<style scoped>\n",
       "    .dataframe tbody tr th:only-of-type {\n",
       "        vertical-align: middle;\n",
       "    }\n",
       "\n",
       "    .dataframe tbody tr th {\n",
       "        vertical-align: top;\n",
       "    }\n",
       "\n",
       "    .dataframe thead th {\n",
       "        text-align: right;\n",
       "    }\n",
       "</style>\n",
       "<table border=\"1\" class=\"dataframe\">\n",
       "  <thead>\n",
       "    <tr style=\"text-align: right;\">\n",
       "      <th></th>\n",
       "      <th>CD_EDUCATION_STATUS_COLLEGE</th>\n",
       "      <th>CD_EDUCATION_STATUS_ADVANCEDDEGREE</th>\n",
       "      <th>CD_DEP_COUNT</th>\n",
       "      <th>CD_MARITAL_STATUS_D</th>\n",
       "      <th>CD_GENDER_M</th>\n",
       "      <th>CD_EDUCATION_STATUS_SECONDARY</th>\n",
       "      <th>CD_MARITAL_STATUS_W</th>\n",
       "      <th>CD_CREDIT_RATING_UNKNOWN</th>\n",
       "      <th>C_BIRTH_YEAR</th>\n",
       "      <th>CD_MARITAL_STATUS_S</th>\n",
       "      <th>...</th>\n",
       "      <th>CD_MARITAL_STATUS_M</th>\n",
       "      <th>CD_CREDIT_RATING_LOWRISK</th>\n",
       "      <th>TOTAL_SALES</th>\n",
       "      <th>CD_EDUCATION_STATUS_UNKNOWN</th>\n",
       "      <th>CD_EDUCATION_STATUS_PRIMARY</th>\n",
       "      <th>CD_EDUCATION_STATUS_4YRDEGREE</th>\n",
       "      <th>CD_CREDIT_RATING_HIGHRISK</th>\n",
       "      <th>CD_GENDER_F</th>\n",
       "      <th>CD_EDUCATION_STATUS_2YRDEGREE</th>\n",
       "      <th>PREDICTION</th>\n",
       "    </tr>\n",
       "  </thead>\n",
       "  <tbody>\n",
       "    <tr>\n",
       "      <th>0</th>\n",
       "      <td>1.0</td>\n",
       "      <td>0.0</td>\n",
       "      <td>1</td>\n",
       "      <td>0.0</td>\n",
       "      <td>0.0</td>\n",
       "      <td>0.0</td>\n",
       "      <td>0.0</td>\n",
       "      <td>0.0</td>\n",
       "      <td>1949</td>\n",
       "      <td>0.0</td>\n",
       "      <td>...</td>\n",
       "      <td>1.0</td>\n",
       "      <td>0.0</td>\n",
       "      <td>29797.19</td>\n",
       "      <td>0.0</td>\n",
       "      <td>0.0</td>\n",
       "      <td>0.0</td>\n",
       "      <td>0.0</td>\n",
       "      <td>1.0</td>\n",
       "      <td>0.0</td>\n",
       "      <td>32349.556641</td>\n",
       "    </tr>\n",
       "    <tr>\n",
       "      <th>1</th>\n",
       "      <td>1.0</td>\n",
       "      <td>0.0</td>\n",
       "      <td>1</td>\n",
       "      <td>0.0</td>\n",
       "      <td>0.0</td>\n",
       "      <td>0.0</td>\n",
       "      <td>0.0</td>\n",
       "      <td>0.0</td>\n",
       "      <td>1961</td>\n",
       "      <td>0.0</td>\n",
       "      <td>...</td>\n",
       "      <td>1.0</td>\n",
       "      <td>0.0</td>\n",
       "      <td>31866.36</td>\n",
       "      <td>0.0</td>\n",
       "      <td>0.0</td>\n",
       "      <td>0.0</td>\n",
       "      <td>0.0</td>\n",
       "      <td>1.0</td>\n",
       "      <td>0.0</td>\n",
       "      <td>32322.585938</td>\n",
       "    </tr>\n",
       "    <tr>\n",
       "      <th>2</th>\n",
       "      <td>1.0</td>\n",
       "      <td>0.0</td>\n",
       "      <td>1</td>\n",
       "      <td>0.0</td>\n",
       "      <td>0.0</td>\n",
       "      <td>0.0</td>\n",
       "      <td>0.0</td>\n",
       "      <td>0.0</td>\n",
       "      <td>1990</td>\n",
       "      <td>0.0</td>\n",
       "      <td>...</td>\n",
       "      <td>1.0</td>\n",
       "      <td>0.0</td>\n",
       "      <td>28941.52</td>\n",
       "      <td>0.0</td>\n",
       "      <td>0.0</td>\n",
       "      <td>0.0</td>\n",
       "      <td>0.0</td>\n",
       "      <td>1.0</td>\n",
       "      <td>0.0</td>\n",
       "      <td>32333.974609</td>\n",
       "    </tr>\n",
       "    <tr>\n",
       "      <th>3</th>\n",
       "      <td>1.0</td>\n",
       "      <td>0.0</td>\n",
       "      <td>1</td>\n",
       "      <td>0.0</td>\n",
       "      <td>0.0</td>\n",
       "      <td>0.0</td>\n",
       "      <td>0.0</td>\n",
       "      <td>0.0</td>\n",
       "      <td>1960</td>\n",
       "      <td>0.0</td>\n",
       "      <td>...</td>\n",
       "      <td>1.0</td>\n",
       "      <td>0.0</td>\n",
       "      <td>30057.20</td>\n",
       "      <td>0.0</td>\n",
       "      <td>0.0</td>\n",
       "      <td>0.0</td>\n",
       "      <td>0.0</td>\n",
       "      <td>1.0</td>\n",
       "      <td>0.0</td>\n",
       "      <td>32300.062500</td>\n",
       "    </tr>\n",
       "    <tr>\n",
       "      <th>4</th>\n",
       "      <td>1.0</td>\n",
       "      <td>0.0</td>\n",
       "      <td>1</td>\n",
       "      <td>0.0</td>\n",
       "      <td>0.0</td>\n",
       "      <td>0.0</td>\n",
       "      <td>0.0</td>\n",
       "      <td>0.0</td>\n",
       "      <td>1979</td>\n",
       "      <td>0.0</td>\n",
       "      <td>...</td>\n",
       "      <td>1.0</td>\n",
       "      <td>0.0</td>\n",
       "      <td>28305.37</td>\n",
       "      <td>0.0</td>\n",
       "      <td>0.0</td>\n",
       "      <td>0.0</td>\n",
       "      <td>0.0</td>\n",
       "      <td>1.0</td>\n",
       "      <td>0.0</td>\n",
       "      <td>32368.886719</td>\n",
       "    </tr>\n",
       "  </tbody>\n",
       "</table>\n",
       "<p>5 rows × 22 columns</p>\n",
       "</div>"
      ],
      "text/plain": [
       "   CD_EDUCATION_STATUS_COLLEGE  CD_EDUCATION_STATUS_ADVANCEDDEGREE  \\\n",
       "0                          1.0                                 0.0   \n",
       "1                          1.0                                 0.0   \n",
       "2                          1.0                                 0.0   \n",
       "3                          1.0                                 0.0   \n",
       "4                          1.0                                 0.0   \n",
       "\n",
       "   CD_DEP_COUNT  CD_MARITAL_STATUS_D  CD_GENDER_M  \\\n",
       "0             1                  0.0          0.0   \n",
       "1             1                  0.0          0.0   \n",
       "2             1                  0.0          0.0   \n",
       "3             1                  0.0          0.0   \n",
       "4             1                  0.0          0.0   \n",
       "\n",
       "   CD_EDUCATION_STATUS_SECONDARY  CD_MARITAL_STATUS_W  \\\n",
       "0                            0.0                  0.0   \n",
       "1                            0.0                  0.0   \n",
       "2                            0.0                  0.0   \n",
       "3                            0.0                  0.0   \n",
       "4                            0.0                  0.0   \n",
       "\n",
       "   CD_CREDIT_RATING_UNKNOWN  C_BIRTH_YEAR  CD_MARITAL_STATUS_S  ...  \\\n",
       "0                       0.0          1949                  0.0  ...   \n",
       "1                       0.0          1961                  0.0  ...   \n",
       "2                       0.0          1990                  0.0  ...   \n",
       "3                       0.0          1960                  0.0  ...   \n",
       "4                       0.0          1979                  0.0  ...   \n",
       "\n",
       "   CD_MARITAL_STATUS_M  CD_CREDIT_RATING_LOWRISK  TOTAL_SALES  \\\n",
       "0                  1.0                       0.0     29797.19   \n",
       "1                  1.0                       0.0     31866.36   \n",
       "2                  1.0                       0.0     28941.52   \n",
       "3                  1.0                       0.0     30057.20   \n",
       "4                  1.0                       0.0     28305.37   \n",
       "\n",
       "   CD_EDUCATION_STATUS_UNKNOWN  CD_EDUCATION_STATUS_PRIMARY  \\\n",
       "0                          0.0                          0.0   \n",
       "1                          0.0                          0.0   \n",
       "2                          0.0                          0.0   \n",
       "3                          0.0                          0.0   \n",
       "4                          0.0                          0.0   \n",
       "\n",
       "   CD_EDUCATION_STATUS_4YRDEGREE  CD_CREDIT_RATING_HIGHRISK  CD_GENDER_F  \\\n",
       "0                            0.0                        0.0          1.0   \n",
       "1                            0.0                        0.0          1.0   \n",
       "2                            0.0                        0.0          1.0   \n",
       "3                            0.0                        0.0          1.0   \n",
       "4                            0.0                        0.0          1.0   \n",
       "\n",
       "   CD_EDUCATION_STATUS_2YRDEGREE    PREDICTION  \n",
       "0                            0.0  32349.556641  \n",
       "1                            0.0  32322.585938  \n",
       "2                            0.0  32333.974609  \n",
       "3                            0.0  32300.062500  \n",
       "4                            0.0  32368.886719  \n",
       "\n",
       "[5 rows x 22 columns]"
      ]
     },
     "execution_count": 43,
     "metadata": {},
     "output_type": "execute_result"
    }
   ],
   "source": [
    "sdf_scored.limit(5).to_pandas()"
   ]
  },
  {
   "cell_type": "markdown",
   "metadata": {},
   "source": [
    "### 4.4 Save predictions in Snowflake"
   ]
  },
  {
   "cell_type": "code",
   "execution_count": 44,
   "metadata": {},
   "outputs": [],
   "source": [
    "session.use_database('tpcds_xgboost')\n",
    "session.use_schema('demo')\n",
    "sdf_scored.write.mode('overwrite').save_as_table('predictions')"
   ]
  },
  {
   "cell_type": "markdown",
   "metadata": {},
   "source": [
    "# 5.0 Deploying trained model as UDF for future usage\n",
    "\n",
    "Steps to follow-\n",
    "1. Get model in your local environment\n",
    "2. Save the file in your local env. as .joblib file\n",
    "3. Upload the file to Snowflake stage\n",
    "4. Create UDF using model in stage\n",
    "\n",
    "We can use `to_xgboost()` in order to get the actual xgboost model object which gives us access to all its attributes."
   ]
  },
  {
   "cell_type": "markdown",
   "metadata": {},
   "source": [
    "### Creating sample dataset for quick predictions"
   ]
  },
  {
   "cell_type": "code",
   "execution_count": 42,
   "metadata": {},
   "outputs": [],
   "source": [
    "snowdf_test = session.table('tpc_TEST')\n",
    "# Predicting with sample dataset\n",
    "sample_data = snowdf_test.limit(100)\n",
    "sample_data.write.mode(\"overwrite\").save_as_table(\"temp_test\")"
   ]
  },
  {
   "cell_type": "code",
   "execution_count": 46,
   "metadata": {},
   "outputs": [],
   "source": [
    "test_sdf = session.table('temp_test')"
   ]
  },
  {
   "cell_type": "markdown",
   "metadata": {},
   "source": [
    "### 5.1 Prepare model to convert to UDF\n",
    "1. Get model in your local environment\n",
    "2. Save the file in your local env. as .joblib file\n",
    "3. Upload the file to Snowflake stage"
   ]
  },
  {
   "cell_type": "code",
   "execution_count": 47,
   "metadata": {},
   "outputs": [],
   "source": [
    "import joblib\n",
    "import cachetools"
   ]
  },
  {
   "cell_type": "code",
   "execution_count": 48,
   "metadata": {},
   "outputs": [
    {
     "data": {
      "text/html": [
       "<style>#sk-container-id-1 {color: black;background-color: white;}#sk-container-id-1 pre{padding: 0;}#sk-container-id-1 div.sk-toggleable {background-color: white;}#sk-container-id-1 label.sk-toggleable__label {cursor: pointer;display: block;width: 100%;margin-bottom: 0;padding: 0.3em;box-sizing: border-box;text-align: center;}#sk-container-id-1 label.sk-toggleable__label-arrow:before {content: \"▸\";float: left;margin-right: 0.25em;color: #696969;}#sk-container-id-1 label.sk-toggleable__label-arrow:hover:before {color: black;}#sk-container-id-1 div.sk-estimator:hover label.sk-toggleable__label-arrow:before {color: black;}#sk-container-id-1 div.sk-toggleable__content {max-height: 0;max-width: 0;overflow: hidden;text-align: left;background-color: #f0f8ff;}#sk-container-id-1 div.sk-toggleable__content pre {margin: 0.2em;color: black;border-radius: 0.25em;background-color: #f0f8ff;}#sk-container-id-1 input.sk-toggleable__control:checked~div.sk-toggleable__content {max-height: 200px;max-width: 100%;overflow: auto;}#sk-container-id-1 input.sk-toggleable__control:checked~label.sk-toggleable__label-arrow:before {content: \"▾\";}#sk-container-id-1 div.sk-estimator input.sk-toggleable__control:checked~label.sk-toggleable__label {background-color: #d4ebff;}#sk-container-id-1 div.sk-label input.sk-toggleable__control:checked~label.sk-toggleable__label {background-color: #d4ebff;}#sk-container-id-1 input.sk-hidden--visually {border: 0;clip: rect(1px 1px 1px 1px);clip: rect(1px, 1px, 1px, 1px);height: 1px;margin: -1px;overflow: hidden;padding: 0;position: absolute;width: 1px;}#sk-container-id-1 div.sk-estimator {font-family: monospace;background-color: #f0f8ff;border: 1px dotted black;border-radius: 0.25em;box-sizing: border-box;margin-bottom: 0.5em;}#sk-container-id-1 div.sk-estimator:hover {background-color: #d4ebff;}#sk-container-id-1 div.sk-parallel-item::after {content: \"\";width: 100%;border-bottom: 1px solid gray;flex-grow: 1;}#sk-container-id-1 div.sk-label:hover label.sk-toggleable__label {background-color: #d4ebff;}#sk-container-id-1 div.sk-serial::before {content: \"\";position: absolute;border-left: 1px solid gray;box-sizing: border-box;top: 0;bottom: 0;left: 50%;z-index: 0;}#sk-container-id-1 div.sk-serial {display: flex;flex-direction: column;align-items: center;background-color: white;padding-right: 0.2em;padding-left: 0.2em;position: relative;}#sk-container-id-1 div.sk-item {position: relative;z-index: 1;}#sk-container-id-1 div.sk-parallel {display: flex;align-items: stretch;justify-content: center;background-color: white;position: relative;}#sk-container-id-1 div.sk-item::before, #sk-container-id-1 div.sk-parallel-item::before {content: \"\";position: absolute;border-left: 1px solid gray;box-sizing: border-box;top: 0;bottom: 0;left: 50%;z-index: -1;}#sk-container-id-1 div.sk-parallel-item {display: flex;flex-direction: column;z-index: 1;position: relative;background-color: white;}#sk-container-id-1 div.sk-parallel-item:first-child::after {align-self: flex-end;width: 50%;}#sk-container-id-1 div.sk-parallel-item:last-child::after {align-self: flex-start;width: 50%;}#sk-container-id-1 div.sk-parallel-item:only-child::after {width: 0;}#sk-container-id-1 div.sk-dashed-wrapped {border: 1px dashed gray;margin: 0 0.4em 0.5em 0.4em;box-sizing: border-box;padding-bottom: 0.4em;background-color: white;}#sk-container-id-1 div.sk-label label {font-family: monospace;font-weight: bold;display: inline-block;line-height: 1.2em;}#sk-container-id-1 div.sk-label-container {text-align: center;}#sk-container-id-1 div.sk-container {/* jupyter's `normalize.less` sets `[hidden] { display: none; }` but bootstrap.min.css set `[hidden] { display: none !important; }` so we also need the `!important` here to be able to override the default hidden behavior on the sphinx rendered scikit-learn.org. See: https://github.com/scikit-learn/scikit-learn/issues/21755 */display: inline-block !important;position: relative;}#sk-container-id-1 div.sk-text-repr-fallback {display: none;}</style><div id=\"sk-container-id-1\" class=\"sk-top-container\"><div class=\"sk-text-repr-fallback\"><pre>XGBRegressor(base_score=None, booster=None, callbacks=None,\n",
       "             colsample_bylevel=None, colsample_bynode=None,\n",
       "             colsample_bytree=None, early_stopping_rounds=None,\n",
       "             enable_categorical=False, eval_metric=None, feature_types=None,\n",
       "             gamma=None, gpu_id=None, grow_policy=None, importance_type=None,\n",
       "             interaction_constraints=None, learning_rate=None, max_bin=None,\n",
       "             max_cat_threshold=None, max_cat_to_onehot=None,\n",
       "             max_delta_step=None, max_depth=None, max_leaves=None,\n",
       "             min_child_weight=None, missing=nan, monotone_constraints=None,\n",
       "             n_estimators=100, n_jobs=None, num_parallel_tree=None,\n",
       "             predictor=None, random_state=123, ...)</pre><b>In a Jupyter environment, please rerun this cell to show the HTML representation or trust the notebook. <br />On GitHub, the HTML representation is unable to render, please try loading this page with nbviewer.org.</b></div><div class=\"sk-container\" hidden><div class=\"sk-item\"><div class=\"sk-estimator sk-toggleable\"><input class=\"sk-toggleable__control sk-hidden--visually\" id=\"sk-estimator-id-1\" type=\"checkbox\" checked><label for=\"sk-estimator-id-1\" class=\"sk-toggleable__label sk-toggleable__label-arrow\">XGBRegressor</label><div class=\"sk-toggleable__content\"><pre>XGBRegressor(base_score=None, booster=None, callbacks=None,\n",
       "             colsample_bylevel=None, colsample_bynode=None,\n",
       "             colsample_bytree=None, early_stopping_rounds=None,\n",
       "             enable_categorical=False, eval_metric=None, feature_types=None,\n",
       "             gamma=None, gpu_id=None, grow_policy=None, importance_type=None,\n",
       "             interaction_constraints=None, learning_rate=None, max_bin=None,\n",
       "             max_cat_threshold=None, max_cat_to_onehot=None,\n",
       "             max_delta_step=None, max_depth=None, max_leaves=None,\n",
       "             min_child_weight=None, missing=nan, monotone_constraints=None,\n",
       "             n_estimators=100, n_jobs=None, num_parallel_tree=None,\n",
       "             predictor=None, random_state=123, ...)</pre></div></div></div></div></div>"
      ],
      "text/plain": [
       "XGBRegressor(base_score=None, booster=None, callbacks=None,\n",
       "             colsample_bylevel=None, colsample_bynode=None,\n",
       "             colsample_bytree=None, early_stopping_rounds=None,\n",
       "             enable_categorical=False, eval_metric=None, feature_types=None,\n",
       "             gamma=None, gpu_id=None, grow_policy=None, importance_type=None,\n",
       "             interaction_constraints=None, learning_rate=None, max_bin=None,\n",
       "             max_cat_threshold=None, max_cat_to_onehot=None,\n",
       "             max_delta_step=None, max_depth=None, max_leaves=None,\n",
       "             min_child_weight=None, missing=nan, monotone_constraints=None,\n",
       "             n_estimators=100, n_jobs=None, num_parallel_tree=None,\n",
       "             predictor=None, random_state=123, ...)"
      ]
     },
     "execution_count": 48,
     "metadata": {},
     "output_type": "execute_result"
    }
   ],
   "source": [
    "xgb_file = xgbmodel.to_xgboost()\n",
    "xgb_file"
   ]
  },
  {
   "cell_type": "code",
   "execution_count": 49,
   "metadata": {},
   "outputs": [
    {
     "data": {
      "text/plain": [
       "['model.joblib.gz']"
      ]
     },
     "execution_count": 49,
     "metadata": {},
     "output_type": "execute_result"
    }
   ],
   "source": [
    "MODEL_FILE = 'model.joblib.gz'\n",
    "joblib.dump(xgb_file, MODEL_FILE) # we are just pickling it locally first"
   ]
  },
  {
   "cell_type": "code",
   "execution_count": 50,
   "metadata": {},
   "outputs": [
    {
     "data": {
      "text/plain": [
       "[PutResult(source='model.joblib.gz', target='model.joblib.gz', source_size=141615, target_size=141616, source_compression='GZIP', target_compression='GZIP', status='UPLOADED', message='')]"
      ]
     },
     "execution_count": 50,
     "metadata": {},
     "output_type": "execute_result"
    }
   ],
   "source": [
    "# You can also save the pickled object into the stage we created earlier\n",
    "session.file.put(MODEL_FILE, \"@ML_MODELS\", auto_compress=False, overwrite=True)"
   ]
  },
  {
   "cell_type": "markdown",
   "metadata": {},
   "source": [
    "### 5.2 Create UDF for future reference\n"
   ]
  },
  {
   "cell_type": "code",
   "execution_count": 51,
   "metadata": {},
   "outputs": [],
   "source": [
    "from snowflake.snowpark.functions import udf\n",
    "import snowflake.snowpark.types as T"
   ]
  },
  {
   "cell_type": "code",
   "execution_count": 52,
   "metadata": {},
   "outputs": [],
   "source": [
    "# Define a simple scoring function\n",
    "from cachetools import cached\n",
    "\n",
    "@cached(cache={})\n",
    "def load_model(model_path: str) -> object:\n",
    "    from joblib import load\n",
    "    model = load(model_path)\n",
    "    return model\n",
    "\n",
    "def udf_score_xgboost_model_vec_cached(df: pd.DataFrame) -> pd.Series:\n",
    "    import os\n",
    "    import sys\n",
    "    # file-dependencies of UDFs are available in snowflake_import_directory\n",
    "    IMPORT_DIRECTORY_NAME = \"snowflake_import_directory\"\n",
    "    import_dir = sys._xoptions[IMPORT_DIRECTORY_NAME]\n",
    "    model_name = 'model.joblib.gz'\n",
    "    model = load_model(import_dir+model_name)\n",
    "    df.columns = feature_cols\n",
    "    scored_data = pd.Series(model.predict(df))\n",
    "    return scored_data"
   ]
  },
  {
   "cell_type": "code",
   "execution_count": 53,
   "metadata": {},
   "outputs": [],
   "source": [
    "# Register UDF\n",
    "udf_clv = session.udf.register(func=udf_score_xgboost_model_vec_cached, \n",
    "                               name=\"TPCDS_PREDICT_CLV\", \n",
    "                               stage_location='@ML_MODELS',\n",
    "                               input_types=[T.FloatType()]*len(feature_cols),\n",
    "                               return_type = T.FloatType(),\n",
    "                               replace=True, \n",
    "                               is_permanent=True, \n",
    "                               imports=['@ML_MODELS/model.joblib.gz'],\n",
    "                               packages=['pandas',\n",
    "                                         'xgboost',\n",
    "                                         'joblib',\n",
    "                                         'cachetools'], \n",
    "                               session=session)"
   ]
  },
  {
   "cell_type": "markdown",
   "metadata": {},
   "source": [
    "### 5.3 Extra Stuff"
   ]
  },
  {
   "cell_type": "markdown",
   "metadata": {},
   "source": [
    "### Inference using UDF Created right here\n",
    "\n",
    "Note we are using `udf_clv` that was defined earlier."
   ]
  },
  {
   "cell_type": "code",
   "execution_count": 51,
   "metadata": {},
   "outputs": [
    {
     "data": {
      "text/html": [
       "<div>\n",
       "<style scoped>\n",
       "    .dataframe tbody tr th:only-of-type {\n",
       "        vertical-align: middle;\n",
       "    }\n",
       "\n",
       "    .dataframe tbody tr th {\n",
       "        vertical-align: top;\n",
       "    }\n",
       "\n",
       "    .dataframe thead th {\n",
       "        text-align: right;\n",
       "    }\n",
       "</style>\n",
       "<table border=\"1\" class=\"dataframe\">\n",
       "  <thead>\n",
       "    <tr style=\"text-align: right;\">\n",
       "      <th></th>\n",
       "      <th>CD_GENDER_F</th>\n",
       "      <th>CD_GENDER_M</th>\n",
       "      <th>CD_MARITAL_STATUS_D</th>\n",
       "      <th>CD_MARITAL_STATUS_M</th>\n",
       "      <th>CD_MARITAL_STATUS_S</th>\n",
       "      <th>CD_MARITAL_STATUS_U</th>\n",
       "      <th>CD_MARITAL_STATUS_W</th>\n",
       "      <th>CD_CREDIT_RATING_GOOD</th>\n",
       "      <th>CD_CREDIT_RATING_HIGHRISK</th>\n",
       "      <th>CD_CREDIT_RATING_LOWRISK</th>\n",
       "      <th>...</th>\n",
       "      <th>CD_EDUCATION_STATUS_4YRDEGREE</th>\n",
       "      <th>CD_EDUCATION_STATUS_ADVANCEDDEGREE</th>\n",
       "      <th>CD_EDUCATION_STATUS_COLLEGE</th>\n",
       "      <th>CD_EDUCATION_STATUS_PRIMARY</th>\n",
       "      <th>CD_EDUCATION_STATUS_SECONDARY</th>\n",
       "      <th>CD_EDUCATION_STATUS_UNKNOWN</th>\n",
       "      <th>C_BIRTH_YEAR</th>\n",
       "      <th>CD_DEP_COUNT</th>\n",
       "      <th>TOTAL_SALES</th>\n",
       "      <th>PREDICTED</th>\n",
       "    </tr>\n",
       "  </thead>\n",
       "  <tbody>\n",
       "    <tr>\n",
       "      <th>0</th>\n",
       "      <td>1.0</td>\n",
       "      <td>0.0</td>\n",
       "      <td>0.0</td>\n",
       "      <td>0.0</td>\n",
       "      <td>0.0</td>\n",
       "      <td>1.0</td>\n",
       "      <td>0.0</td>\n",
       "      <td>1.0</td>\n",
       "      <td>0.0</td>\n",
       "      <td>0.0</td>\n",
       "      <td>...</td>\n",
       "      <td>0.0</td>\n",
       "      <td>1.0</td>\n",
       "      <td>0.0</td>\n",
       "      <td>0.0</td>\n",
       "      <td>0.0</td>\n",
       "      <td>0.0</td>\n",
       "      <td>1949</td>\n",
       "      <td>0</td>\n",
       "      <td>28147.17</td>\n",
       "      <td>32338.773438</td>\n",
       "    </tr>\n",
       "    <tr>\n",
       "      <th>1</th>\n",
       "      <td>1.0</td>\n",
       "      <td>0.0</td>\n",
       "      <td>0.0</td>\n",
       "      <td>0.0</td>\n",
       "      <td>0.0</td>\n",
       "      <td>1.0</td>\n",
       "      <td>0.0</td>\n",
       "      <td>1.0</td>\n",
       "      <td>0.0</td>\n",
       "      <td>0.0</td>\n",
       "      <td>...</td>\n",
       "      <td>0.0</td>\n",
       "      <td>1.0</td>\n",
       "      <td>0.0</td>\n",
       "      <td>0.0</td>\n",
       "      <td>0.0</td>\n",
       "      <td>0.0</td>\n",
       "      <td>1959</td>\n",
       "      <td>0</td>\n",
       "      <td>24785.48</td>\n",
       "      <td>32347.671875</td>\n",
       "    </tr>\n",
       "  </tbody>\n",
       "</table>\n",
       "<p>2 rows × 22 columns</p>\n",
       "</div>"
      ],
      "text/plain": [
       "   CD_GENDER_F  CD_GENDER_M  CD_MARITAL_STATUS_D  CD_MARITAL_STATUS_M  \\\n",
       "0          1.0          0.0                  0.0                  0.0   \n",
       "1          1.0          0.0                  0.0                  0.0   \n",
       "\n",
       "   CD_MARITAL_STATUS_S  CD_MARITAL_STATUS_U  CD_MARITAL_STATUS_W  \\\n",
       "0                  0.0                  1.0                  0.0   \n",
       "1                  0.0                  1.0                  0.0   \n",
       "\n",
       "   CD_CREDIT_RATING_GOOD  CD_CREDIT_RATING_HIGHRISK  CD_CREDIT_RATING_LOWRISK  \\\n",
       "0                    1.0                        0.0                       0.0   \n",
       "1                    1.0                        0.0                       0.0   \n",
       "\n",
       "   ...  CD_EDUCATION_STATUS_4YRDEGREE  CD_EDUCATION_STATUS_ADVANCEDDEGREE  \\\n",
       "0  ...                            0.0                                 1.0   \n",
       "1  ...                            0.0                                 1.0   \n",
       "\n",
       "   CD_EDUCATION_STATUS_COLLEGE  CD_EDUCATION_STATUS_PRIMARY  \\\n",
       "0                          0.0                          0.0   \n",
       "1                          0.0                          0.0   \n",
       "\n",
       "   CD_EDUCATION_STATUS_SECONDARY  CD_EDUCATION_STATUS_UNKNOWN  C_BIRTH_YEAR  \\\n",
       "0                            0.0                          0.0          1949   \n",
       "1                            0.0                          0.0          1959   \n",
       "\n",
       "   CD_DEP_COUNT  TOTAL_SALES     PREDICTED  \n",
       "0             0     28147.17  32338.773438  \n",
       "1             0     24785.48  32347.671875  \n",
       "\n",
       "[2 rows x 22 columns]"
      ]
     },
     "execution_count": 51,
     "metadata": {},
     "output_type": "execute_result"
    }
   ],
   "source": [
    "test_sdf_w_preds = test_sdf.with_column('PREDICTED', udf_clv(*feature_cols))\n",
    "test_sdf_w_preds.limit(2).to_pandas()"
   ]
  },
  {
   "cell_type": "markdown",
   "metadata": {},
   "source": [
    "### Inference using UDF Called from Snowflake\n",
    "\n",
    "Notice we are calling the UDF created in snowflake using `F.call_udf()`"
   ]
  },
  {
   "cell_type": "code",
   "execution_count": 52,
   "metadata": {},
   "outputs": [
    {
     "data": {
      "text/html": [
       "<div>\n",
       "<style scoped>\n",
       "    .dataframe tbody tr th:only-of-type {\n",
       "        vertical-align: middle;\n",
       "    }\n",
       "\n",
       "    .dataframe tbody tr th {\n",
       "        vertical-align: top;\n",
       "    }\n",
       "\n",
       "    .dataframe thead th {\n",
       "        text-align: right;\n",
       "    }\n",
       "</style>\n",
       "<table border=\"1\" class=\"dataframe\">\n",
       "  <thead>\n",
       "    <tr style=\"text-align: right;\">\n",
       "      <th></th>\n",
       "      <th>CD_GENDER_F</th>\n",
       "      <th>CD_GENDER_M</th>\n",
       "      <th>CD_MARITAL_STATUS_D</th>\n",
       "      <th>CD_MARITAL_STATUS_M</th>\n",
       "      <th>CD_MARITAL_STATUS_S</th>\n",
       "      <th>CD_MARITAL_STATUS_U</th>\n",
       "      <th>CD_MARITAL_STATUS_W</th>\n",
       "      <th>CD_CREDIT_RATING_GOOD</th>\n",
       "      <th>CD_CREDIT_RATING_HIGHRISK</th>\n",
       "      <th>CD_CREDIT_RATING_LOWRISK</th>\n",
       "      <th>...</th>\n",
       "      <th>CD_EDUCATION_STATUS_4YRDEGREE</th>\n",
       "      <th>CD_EDUCATION_STATUS_ADVANCEDDEGREE</th>\n",
       "      <th>CD_EDUCATION_STATUS_COLLEGE</th>\n",
       "      <th>CD_EDUCATION_STATUS_PRIMARY</th>\n",
       "      <th>CD_EDUCATION_STATUS_SECONDARY</th>\n",
       "      <th>CD_EDUCATION_STATUS_UNKNOWN</th>\n",
       "      <th>C_BIRTH_YEAR</th>\n",
       "      <th>CD_DEP_COUNT</th>\n",
       "      <th>TOTAL_SALES</th>\n",
       "      <th>PREDICTED</th>\n",
       "    </tr>\n",
       "  </thead>\n",
       "  <tbody>\n",
       "    <tr>\n",
       "      <th>0</th>\n",
       "      <td>1.0</td>\n",
       "      <td>0.0</td>\n",
       "      <td>0.0</td>\n",
       "      <td>0.0</td>\n",
       "      <td>0.0</td>\n",
       "      <td>1.0</td>\n",
       "      <td>0.0</td>\n",
       "      <td>1.0</td>\n",
       "      <td>0.0</td>\n",
       "      <td>0.0</td>\n",
       "      <td>...</td>\n",
       "      <td>0.0</td>\n",
       "      <td>1.0</td>\n",
       "      <td>0.0</td>\n",
       "      <td>0.0</td>\n",
       "      <td>0.0</td>\n",
       "      <td>0.0</td>\n",
       "      <td>1949</td>\n",
       "      <td>0</td>\n",
       "      <td>28147.17</td>\n",
       "      <td>32338.773438</td>\n",
       "    </tr>\n",
       "    <tr>\n",
       "      <th>1</th>\n",
       "      <td>1.0</td>\n",
       "      <td>0.0</td>\n",
       "      <td>0.0</td>\n",
       "      <td>0.0</td>\n",
       "      <td>0.0</td>\n",
       "      <td>1.0</td>\n",
       "      <td>0.0</td>\n",
       "      <td>1.0</td>\n",
       "      <td>0.0</td>\n",
       "      <td>0.0</td>\n",
       "      <td>...</td>\n",
       "      <td>0.0</td>\n",
       "      <td>1.0</td>\n",
       "      <td>0.0</td>\n",
       "      <td>0.0</td>\n",
       "      <td>0.0</td>\n",
       "      <td>0.0</td>\n",
       "      <td>1959</td>\n",
       "      <td>0</td>\n",
       "      <td>24785.48</td>\n",
       "      <td>32347.671875</td>\n",
       "    </tr>\n",
       "  </tbody>\n",
       "</table>\n",
       "<p>2 rows × 22 columns</p>\n",
       "</div>"
      ],
      "text/plain": [
       "   CD_GENDER_F  CD_GENDER_M  CD_MARITAL_STATUS_D  CD_MARITAL_STATUS_M  \\\n",
       "0          1.0          0.0                  0.0                  0.0   \n",
       "1          1.0          0.0                  0.0                  0.0   \n",
       "\n",
       "   CD_MARITAL_STATUS_S  CD_MARITAL_STATUS_U  CD_MARITAL_STATUS_W  \\\n",
       "0                  0.0                  1.0                  0.0   \n",
       "1                  0.0                  1.0                  0.0   \n",
       "\n",
       "   CD_CREDIT_RATING_GOOD  CD_CREDIT_RATING_HIGHRISK  CD_CREDIT_RATING_LOWRISK  \\\n",
       "0                    1.0                        0.0                       0.0   \n",
       "1                    1.0                        0.0                       0.0   \n",
       "\n",
       "   ...  CD_EDUCATION_STATUS_4YRDEGREE  CD_EDUCATION_STATUS_ADVANCEDDEGREE  \\\n",
       "0  ...                            0.0                                 1.0   \n",
       "1  ...                            0.0                                 1.0   \n",
       "\n",
       "   CD_EDUCATION_STATUS_COLLEGE  CD_EDUCATION_STATUS_PRIMARY  \\\n",
       "0                          0.0                          0.0   \n",
       "1                          0.0                          0.0   \n",
       "\n",
       "   CD_EDUCATION_STATUS_SECONDARY  CD_EDUCATION_STATUS_UNKNOWN  C_BIRTH_YEAR  \\\n",
       "0                            0.0                          0.0          1949   \n",
       "1                            0.0                          0.0          1959   \n",
       "\n",
       "   CD_DEP_COUNT  TOTAL_SALES     PREDICTED  \n",
       "0             0     28147.17  32338.773438  \n",
       "1             0     24785.48  32347.671875  \n",
       "\n",
       "[2 rows x 22 columns]"
      ]
     },
     "execution_count": 52,
     "metadata": {},
     "output_type": "execute_result"
    }
   ],
   "source": [
    "test_sdf_w_preds = test_sdf.with_column('PREDICTED',F.call_udf(\"TPCDS_PREDICT_CLV\",\n",
    "                                                               [F.col(c) for c in feature_cols]))\n",
    "test_sdf_w_preds.limit(2).to_pandas()"
   ]
  },
  {
   "cell_type": "markdown",
   "metadata": {},
   "source": [
    "# 6.0 Wrap up"
   ]
  },
  {
   "cell_type": "code",
   "execution_count": 7,
   "metadata": {},
   "outputs": [],
   "source": [
    "session.close()"
   ]
  }
 ],
 "metadata": {
  "kernelspec": {
   "display_name": "CaseStudy2",
   "language": "python",
   "name": "python3"
  },
  "language_info": {
   "codemirror_mode": {
    "name": "ipython",
    "version": 3
   },
   "file_extension": ".py",
   "mimetype": "text/x-python",
   "name": "python",
   "nbconvert_exporter": "python",
   "pygments_lexer": "ipython3",
   "version": "3.10.11 (tags/v3.10.11:7d4cc5a, Apr  5 2023, 00:38:17) [MSC v.1929 64 bit (AMD64)]"
  },
  "vscode": {
   "interpreter": {
    "hash": "770b42be29aa7658fe00bf34042dadac53b8f8a65b2561a0573a15517c876b93"
   }
  }
 },
 "nbformat": 4,
 "nbformat_minor": 2
}
